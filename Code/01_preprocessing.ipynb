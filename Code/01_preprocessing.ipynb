{
  "nbformat": 4,
  "nbformat_minor": 0,
  "metadata": {
    "colab": {
      "name": "01.preprocessing.ipynb",
      "provenance": [],
      "collapsed_sections": [],
      "mount_file_id": "1uzaWirOvlBRAFYID5HbCV0IgAICO9RnE",
      "authorship_tag": "ABX9TyOYWBYs/NUIroyxKuTaGQds",
      "include_colab_link": true
    },
    "kernelspec": {
      "name": "python3",
      "display_name": "Python 3"
    },
    "language_info": {
      "name": "python"
    }
  },
  "cells": [
    {
      "cell_type": "markdown",
      "metadata": {
        "id": "view-in-github",
        "colab_type": "text"
      },
      "source": [
        "<a href=\"https://colab.research.google.com/github/soohyunme/exercise/blob/main/Code/01_preprocessing.ipynb\" target=\"_parent\"><img src=\"https://colab.research.google.com/assets/colab-badge.svg\" alt=\"Open In Colab\"/></a>"
      ]
    },
    {
      "cell_type": "code",
      "metadata": {
        "colab": {
          "base_uri": "https://localhost:8080/"
        },
        "id": "6ojDdKSzmYsS",
        "outputId": "e7ea295a-b283-4785-f35a-608a10a3612b"
      },
      "source": [
        "cd /content/drive/MyDrive/4조/01.체육공모전/Code"
      ],
      "execution_count": null,
      "outputs": [
        {
          "output_type": "stream",
          "name": "stdout",
          "text": [
            "/content/drive/.shortcut-targets-by-id/159Rw9eptrdiP8wihxnfPLcnRcwjx1x8n/4조/01.체육공모전/Code\n"
          ]
        }
      ]
    },
    {
      "cell_type": "markdown",
      "metadata": {
        "id": "rWExeJzgVElj"
      },
      "source": [
        "# 모듈 로드"
      ]
    },
    {
      "cell_type": "code",
      "metadata": {
        "id": "oWYad-7-mpbe"
      },
      "source": [
        "import pandas as pd\n",
        "from tqdm import tqdm"
      ],
      "execution_count": null,
      "outputs": []
    },
    {
      "cell_type": "code",
      "metadata": {
        "id": "XBX4R4-qTVhi"
      },
      "source": [
        "test_origin= pd.read_csv('../Data/02.항목별_체력측정_데이터_1721.csv',encoding='cp949')\n",
        "exercise_origin = pd.read_csv('../Data/03.운동처방_데이터_1721.csv',encoding='cp949')"
      ],
      "execution_count": null,
      "outputs": []
    },
    {
      "cell_type": "markdown",
      "metadata": {
        "id": "BlOKyHl5VK3z"
      },
      "source": [
        "# 컬럼 전처리"
      ]
    },
    {
      "cell_type": "markdown",
      "metadata": {
        "id": "SXjn-NL8KyOe"
      },
      "source": [
        "**운동 이름 사전 정의**\n",
        "\n",
        "회전근개 스트레칭1, 2 -> 회전근개 스트레칭"
      ]
    },
    {
      "cell_type": "code",
      "metadata": {
        "id": "Nao0lggVnv39"
      },
      "source": [
        "replace_dict = {'회전근개 스트레칭2':'회전근개 스트레칭','골다공증을 위한 근력운동2':'골다공증을 위한 근력운동','골다공증을 위한 근력운동1':'골다공증을 위한 근력운동','엉덩이 스트레칭2':'엉덩이 스트레칭',\n",
        "                '골반 스트레칭2':'골반 스트레칭','관절염을 위한 근력운동2':'관절염을 위한 근력운동','관절염을 위한 근력운동1':'관절염을 위한 근력운동','순간반응 콘 찍기 2':'순간반응 콘 찍기',\n",
        "                '마주 앉아 대퇴이두근 스트레칭2':'마주 앉아 대퇴이두근 스트레칭','2단 줄넘기':'줄넘기','1단 줄넘기':'줄넘기','줄넘기 운동':'줄넘기','대퇴이두근 스트레칭2':'대퇴이두근 스트레칭',\n",
        "                '요통을 위한 스트레칭2':'요통을 위한 스트레칭','요통을 위한 스트레칭1':'요통을 위한 스트레칭','하지 루틴 스트레칭1':'하지 루틴 스트레칭','하지 루틴 스트레칭2':'하지 루틴 스트레칭',\n",
        "                '계단 두 칸씩 뛰기':'계단 뛰기','계단 두발 뛰기':'계단 뛰기','계단 뛰어 오르기':'계단 뛰기','계단 한발 뛰기':'계단 뛰기','계단 뛰어 오르기':'계단 뛰기',\n",
        "                '넙다리 뒤쪽 스트레칭':'넙다리 스트레칭','넙다리 안쪽 스트레칭':'넙다리 스트레칭','넙다리 앞쪽 스트레칭':'넙다리 스트레칭','목 굽힘/ 폄 I':'목 굽힘/ 폄',\n",
        "                '목 굽힘/ 폄 II':'목 굽힘/ 폄','목 굽힘/ 폄 III':'목 굽힘/ 폄','누워서 배가로근 수축 I':'누워서 배가로근 수축','누워서 배가로근 수축 II':'누워서 배가로근 수축',\n",
        "                '서서 다리로 탄력밴드 당기기 II':'서서 다리로 탄력밴드 당기기','서서 다리로 탄력밴드 당기기 I':'서서 다리로 탄력밴드 당기기','등척성운동-바깥돌림':'등척성운동',\n",
        "                '등척성운동-벌림':'등척성운동','등척성운동-안쪽 돌림':'등척성운동','목 당기기':'목 스트레칭','목 돌리기':'목 스트레칭','목 돌림 스트레칭':'목 스트레칭',\n",
        "                '바벨 잡고 들어올리기':'바벨들어올리기','버피 테스트':'버피운동','베개 밟고 교차 서기':'베개 밟고 서기','베개 밟고 대각방향으로 서기':'베개 밟고 서기','베개 밟고 두발 모아 서기':'베개 밟고 서기',\n",
        "                '베개 밟고 서기':'베게 밟고 서기','베개 밟고 서기 평형성 운동 루틴 프로그램':'베개 밟고 서기', '사다리 운동  루틴프로그램':'사다리 이용 루틴 운동','실내 자전거타기':'자전거타기',\n",
        "                '실외 자전거타기':'자전거타기','고정식 자전거 타기':'자전거타기','아쿠아로빅':'아쿠아로빅', '아쿠아로빅-몸 기울이기/회전하기':'아쿠아로빅', '아쿠아로빅-물누르기/올리기':'아쿠아로빅',\n",
        "                '아쿠아로빅-물당기기/밀기':'아쿠아로빅','아쿠아로빅-발 닿기':'아쿠아로빅','아쿠아로빅-엉덩관절 회전하기':'아쿠아로빅','아쿠아로빅-옆구리 늘리기':'아쿠아로빅',\n",
        "                '고정식 트레드밀에서 걷기':'걷기', '트레드밀에서 걷기':'걷기','조깅':'달리기','배스트레칭':'배 스트레칭','윗몸말아올리기':'윗몸 말아 올리기'}"
      ],
      "execution_count": null,
      "outputs": []
    },
    {
      "cell_type": "markdown",
      "metadata": {
        "id": "NVooNqLwVMOz"
      },
      "source": [
        "준비운동 / 본운동 / 마무리운동 분류"
      ]
    },
    {
      "cell_type": "code",
      "metadata": {
        "id": "CLYmXccWTlI-"
      },
      "source": [
        "pre_exercise = {}\n",
        "main_exercise = {}\n",
        "finish_exercise = {}\n",
        "\n",
        "exercise_origin['split'] = exercise_origin['PRES_NOTE'].apply(lambda x : x.split(' / '))"
      ],
      "execution_count": null,
      "outputs": []
    },
    {
      "cell_type": "code",
      "metadata": {
        "colab": {
          "base_uri": "https://localhost:8080/"
        },
        "id": "yCppJGgoUc1b",
        "outputId": "73bb4fd7-1f40-4bb2-a2ec-2cf33cb95be9"
      },
      "source": [
        "for i in tqdm(range(0,len(exercise_origin))):\n",
        "    for each_of_row in exercise_origin.iloc[i]['split']:\n",
        "        ex_list = each_of_row.split(':')[1:]\n",
        "        ex_list = ex_list[0].split(',')\n",
        "        counter = 0\n",
        "        tmp_list = []\n",
        "        tmp_string = ''\n",
        "        for str in ex_list:\n",
        "            str = str.strip()\n",
        "            if str in replace_dict:\n",
        "              str = replace_dict[str]\n",
        "            if str in tmp_list:\n",
        "              continue\n",
        "            tmp_list.append(str)\n",
        "            if counter == len(ex_list)-1:\n",
        "                tmp_string += str\n",
        "            else:\n",
        "                tmp_string += str+','\n",
        "            counter +=1\n",
        "        if '준비운동:' in each_of_row:\n",
        "            pre_exercise[i] = tmp_string\n",
        "        elif '본운동:' in each_of_row:\n",
        "            main_exercise[i] = tmp_string\n",
        "        else:\n",
        "            finish_exercise[i] = tmp_string"
      ],
      "execution_count": null,
      "outputs": [
        {
          "output_type": "stream",
          "name": "stderr",
          "text": [
            "100%|██████████| 844875/844875 [02:35<00:00, 5450.12it/s]\n"
          ]
        }
      ]
    },
    {
      "cell_type": "code",
      "metadata": {
        "id": "KsYyfQs8VBgT"
      },
      "source": [
        "pre_df = pd.DataFrame(pre_exercise.values(),pre_exercise.keys(),columns=['준비운동'])\n",
        "main_df = pd.DataFrame(main_exercise.values(),main_exercise.keys(),columns=['본운동'])\n",
        "finish_df = pd.DataFrame(finish_exercise.values(),finish_exercise.keys(),columns=['마무리운동'])\n",
        "ex_df = pd.concat([pre_df,main_df,finish_df],axis=1).fillna('없음')\n"
      ],
      "execution_count": null,
      "outputs": []
    },
    {
      "cell_type": "code",
      "metadata": {
        "colab": {
          "base_uri": "https://localhost:8080/",
          "height": 112
        },
        "id": "FpsRy6ZhVXtl",
        "outputId": "f8e0409c-9977-4760-aacb-98f383592631"
      },
      "source": [
        "ex_split_df = pd.concat([exercise_origin.drop(['PRES_NOTE','split'],axis=1),ex_df],axis=1)\n",
        "ex_split_df.head(2)"
      ],
      "execution_count": null,
      "outputs": [
        {
          "output_type": "execute_result",
          "data": {
            "text/html": [
              "<div>\n",
              "<style scoped>\n",
              "    .dataframe tbody tr th:only-of-type {\n",
              "        vertical-align: middle;\n",
              "    }\n",
              "\n",
              "    .dataframe tbody tr th {\n",
              "        vertical-align: top;\n",
              "    }\n",
              "\n",
              "    .dataframe thead th {\n",
              "        text-align: right;\n",
              "    }\n",
              "</style>\n",
              "<table border=\"1\" class=\"dataframe\">\n",
              "  <thead>\n",
              "    <tr style=\"text-align: right;\">\n",
              "      <th></th>\n",
              "      <th>TEST_CNT</th>\n",
              "      <th>CENTER_NM</th>\n",
              "      <th>AGE_GBN</th>\n",
              "      <th>TEST_GBN</th>\n",
              "      <th>TEST_AGE</th>\n",
              "      <th>INPUT_GBN</th>\n",
              "      <th>CERT_GBN</th>\n",
              "      <th>TEST_YMD</th>\n",
              "      <th>TEST_SEX</th>\n",
              "      <th>준비운동</th>\n",
              "      <th>본운동</th>\n",
              "      <th>마무리운동</th>\n",
              "    </tr>\n",
              "  </thead>\n",
              "  <tbody>\n",
              "    <tr>\n",
              "      <th>0</th>\n",
              "      <td>2</td>\n",
              "      <td>서구(대전)</td>\n",
              "      <td>성인</td>\n",
              "      <td>일반</td>\n",
              "      <td>20</td>\n",
              "      <td>관리자</td>\n",
              "      <td>참가증</td>\n",
              "      <td>20170111</td>\n",
              "      <td>M</td>\n",
              "      <td>없음</td>\n",
              "      <td>달리기,자전거타기,걷기,줄넘기,</td>\n",
              "      <td>없음</td>\n",
              "    </tr>\n",
              "    <tr>\n",
              "      <th>1</th>\n",
              "      <td>4</td>\n",
              "      <td>KSPO송파</td>\n",
              "      <td>노인</td>\n",
              "      <td>일반</td>\n",
              "      <td>71</td>\n",
              "      <td>인바디</td>\n",
              "      <td>2등급</td>\n",
              "      <td>20170117</td>\n",
              "      <td>F</td>\n",
              "      <td>전신 루틴 스트레칭</td>\n",
              "      <td>없음</td>\n",
              "      <td>없음</td>\n",
              "    </tr>\n",
              "  </tbody>\n",
              "</table>\n",
              "</div>"
            ],
            "text/plain": [
              "   TEST_CNT CENTER_NM AGE_GBN  ...        준비운동                본운동 마무리운동\n",
              "0         2    서구(대전)      성인  ...          없음  달리기,자전거타기,걷기,줄넘기,    없음\n",
              "1         4    KSPO송파      노인  ...  전신 루틴 스트레칭                 없음    없음\n",
              "\n",
              "[2 rows x 12 columns]"
            ]
          },
          "metadata": {},
          "execution_count": 9
        }
      ]
    },
    {
      "cell_type": "code",
      "metadata": {
        "id": "PoUOebJAVYvN"
      },
      "source": [
        "all_ex = set()\n",
        "df_list = [pre_df,main_df,finish_df]\n",
        "for df in df_list:\n",
        "    for each_list in df.iloc[:,0]:\n",
        "        all_ex.update(each_list.split(','))\n",
        "        "
      ],
      "execution_count": null,
      "outputs": []
    },
    {
      "cell_type": "code",
      "metadata": {
        "colab": {
          "base_uri": "https://localhost:8080/"
        },
        "id": "2-XL2NwBIuIL",
        "outputId": "ab816805-d6b0-46de-cad9-0fbd6da6b349"
      },
      "source": [
        "len(all_ex)"
      ],
      "execution_count": null,
      "outputs": [
        {
          "output_type": "execute_result",
          "data": {
            "text/plain": [
              "597"
            ]
          },
          "metadata": {},
          "execution_count": 11
        }
      ]
    },
    {
      "cell_type": "markdown",
      "metadata": {
        "id": "UHtlS9xOXWR4"
      },
      "source": [
        "# 운동 처방되지 않은 행 제거"
      ]
    },
    {
      "cell_type": "code",
      "metadata": {
        "id": "yLyPb-LIXZ-z"
      },
      "source": [
        "dropna_df = ex_split_df[(ex_split_df['준비운동']!='없음') & (ex_split_df['본운동']!='없음') & (ex_split_df['마무리운동']!='없음')]"
      ],
      "execution_count": null,
      "outputs": []
    },
    {
      "cell_type": "code",
      "metadata": {
        "id": "-1EA9B6zVZdo"
      },
      "source": [
        "dropna_df.to_csv('../Data/운동처방1721_운동분리.csv',encoding='cp949',index=False)"
      ],
      "execution_count": null,
      "outputs": []
    },
    {
      "cell_type": "markdown",
      "metadata": {
        "id": "85eV4LWTWtRS"
      },
      "source": [
        "# 체력측정 데이터 병합"
      ]
    },
    {
      "cell_type": "code",
      "metadata": {
        "id": "YqjFrBSTWrgD"
      },
      "source": [
        "dropna_df = pd.read_csv('../Data/운동처방1721_운동분리.csv',encoding='cp949')"
      ],
      "execution_count": null,
      "outputs": []
    },
    {
      "cell_type": "code",
      "metadata": {
        "id": "j4nLLj2aWs0b"
      },
      "source": [
        "id_df = dropna_df.reset_index().rename(columns={'index':'USER_ID'})\n",
        "test_merge = test_origin.dropna(subset=['ITEM_F018','ITEM_F003'])"
      ],
      "execution_count": null,
      "outputs": []
    },
    {
      "cell_type": "code",
      "metadata": {
        "id": "Z7a6mmWlWxLH",
        "colab": {
          "base_uri": "https://localhost:8080/",
          "height": 493
        },
        "outputId": "61f1abb4-36e6-4cd6-bc7b-4a4ffc2928e5"
      },
      "source": [
        "total_df = id_df.merge(test_merge,how='inner',on=['TEST_CNT', 'CENTER_NM', 'AGE_GBN', 'TEST_GBN', 'TEST_AGE', 'INPUT_GBN',\n",
        "        'CERT_GBN', 'TEST_YMD', 'TEST_SEX']).drop_duplicates(subset=['USER_ID'],keep=False)\n",
        "merge_df = total_df.rename(columns={'ITEM_F001':'HEIGHT','ITEM_F002':'WEIGHT'})[['USER_ID', 'TEST_AGE',\n",
        "        'CERT_GBN', 'TEST_SEX', 'HEIGHT', 'WEIGHT' , '준비운동', '본운동', '마무리운동']]\n",
        "merge_df "
      ],
      "execution_count": null,
      "outputs": [
        {
          "output_type": "execute_result",
          "data": {
            "text/html": [
              "<div>\n",
              "<style scoped>\n",
              "    .dataframe tbody tr th:only-of-type {\n",
              "        vertical-align: middle;\n",
              "    }\n",
              "\n",
              "    .dataframe tbody tr th {\n",
              "        vertical-align: top;\n",
              "    }\n",
              "\n",
              "    .dataframe thead th {\n",
              "        text-align: right;\n",
              "    }\n",
              "</style>\n",
              "<table border=\"1\" class=\"dataframe\">\n",
              "  <thead>\n",
              "    <tr style=\"text-align: right;\">\n",
              "      <th></th>\n",
              "      <th>USER_ID</th>\n",
              "      <th>TEST_AGE</th>\n",
              "      <th>CERT_GBN</th>\n",
              "      <th>TEST_SEX</th>\n",
              "      <th>HEIGHT</th>\n",
              "      <th>WEIGHT</th>\n",
              "      <th>준비운동</th>\n",
              "      <th>본운동</th>\n",
              "      <th>마무리운동</th>\n",
              "    </tr>\n",
              "  </thead>\n",
              "  <tbody>\n",
              "    <tr>\n",
              "      <th>0</th>\n",
              "      <td>0</td>\n",
              "      <td>68</td>\n",
              "      <td>참가증</td>\n",
              "      <td>F</td>\n",
              "      <td>153.5</td>\n",
              "      <td>45.90</td>\n",
              "      <td>자가근막이완술 루틴 스트레칭</td>\n",
              "      <td>의자 이용 중심 잡기 루틴 운동</td>\n",
              "      <td>하지 루틴 스트레칭</td>\n",
              "    </tr>\n",
              "    <tr>\n",
              "      <th>1</th>\n",
              "      <td>3</td>\n",
              "      <td>21</td>\n",
              "      <td>참가증</td>\n",
              "      <td>M</td>\n",
              "      <td>178.7</td>\n",
              "      <td>74.66</td>\n",
              "      <td>걷기</td>\n",
              "      <td>윗몸 말아 올리기,달리기</td>\n",
              "      <td>전신 루틴 스트레칭</td>\n",
              "    </tr>\n",
              "    <tr>\n",
              "      <th>2</th>\n",
              "      <td>4</td>\n",
              "      <td>55</td>\n",
              "      <td>참가증</td>\n",
              "      <td>F</td>\n",
              "      <td>155.4</td>\n",
              "      <td>62.20</td>\n",
              "      <td>전신 루틴 스트레칭,유산소 운동 전 동적 루틴 스트레칭</td>\n",
              "      <td>바벨들어올리기,앉았다 일어서기,엎드려 버티기,팔굽혀펴기,달리기,앉았다 일어서면서 점프하기</td>\n",
              "      <td>상지 루틴 스트레칭,전신 루틴 스트레칭</td>\n",
              "    </tr>\n",
              "    <tr>\n",
              "      <th>3</th>\n",
              "      <td>5</td>\n",
              "      <td>19</td>\n",
              "      <td>참가증</td>\n",
              "      <td>M</td>\n",
              "      <td>168.0</td>\n",
              "      <td>48.00</td>\n",
              "      <td>걷기</td>\n",
              "      <td>달리기,무릎 높여 제자리 달리기</td>\n",
              "      <td>전신 루틴 스트레칭</td>\n",
              "    </tr>\n",
              "    <tr>\n",
              "      <th>4</th>\n",
              "      <td>7</td>\n",
              "      <td>52</td>\n",
              "      <td>참가증</td>\n",
              "      <td>F</td>\n",
              "      <td>163.0</td>\n",
              "      <td>64.78</td>\n",
              "      <td>걷기</td>\n",
              "      <td>하지 루틴 스트레칭,전신 루틴 스트레칭</td>\n",
              "      <td>자전거타기</td>\n",
              "    </tr>\n",
              "    <tr>\n",
              "      <th>...</th>\n",
              "      <td>...</td>\n",
              "      <td>...</td>\n",
              "      <td>...</td>\n",
              "      <td>...</td>\n",
              "      <td>...</td>\n",
              "      <td>...</td>\n",
              "      <td>...</td>\n",
              "      <td>...</td>\n",
              "      <td>...</td>\n",
              "    </tr>\n",
              "    <tr>\n",
              "      <th>4189667</th>\n",
              "      <td>420926</td>\n",
              "      <td>25</td>\n",
              "      <td>1등급</td>\n",
              "      <td>F</td>\n",
              "      <td>156.5</td>\n",
              "      <td>50.50</td>\n",
              "      <td>유산소 운동 전 동적 루틴 스트레칭</td>\n",
              "      <td>걷기,달리기,자전거타기,계단 올라갔다 내려오기</td>\n",
              "      <td>전신 루틴 스트레칭</td>\n",
              "    </tr>\n",
              "    <tr>\n",
              "      <th>4189668</th>\n",
              "      <td>420927</td>\n",
              "      <td>21</td>\n",
              "      <td>참가증</td>\n",
              "      <td>F</td>\n",
              "      <td>158.0</td>\n",
              "      <td>62.50</td>\n",
              "      <td>유산소 운동 전 동적 루틴 스트레칭</td>\n",
              "      <td>걷기,달리기,자전거타기,계단 올라갔다 내려오기</td>\n",
              "      <td>전신 루틴 스트레칭</td>\n",
              "    </tr>\n",
              "    <tr>\n",
              "      <th>4189669</th>\n",
              "      <td>420928</td>\n",
              "      <td>28</td>\n",
              "      <td>2등급</td>\n",
              "      <td>M</td>\n",
              "      <td>180.7</td>\n",
              "      <td>66.90</td>\n",
              "      <td>걷기,계단 뛰기</td>\n",
              "      <td>엎드려서 다리 차올리기,의자 앞에서 앉았다 일어서기,엎드려 버티기,누워서 엉덩이 들...</td>\n",
              "      <td>전신 루틴 스트레칭,자가근막이완술 루틴 스트레칭</td>\n",
              "    </tr>\n",
              "    <tr>\n",
              "      <th>4189670</th>\n",
              "      <td>420929</td>\n",
              "      <td>63</td>\n",
              "      <td>참가증</td>\n",
              "      <td>F</td>\n",
              "      <td>156.7</td>\n",
              "      <td>60.50</td>\n",
              "      <td>자가근막이완술 루틴 스트레칭</td>\n",
              "      <td>넙다리 스트레칭,엉덩이 스트레칭,허리 스트레칭,배 스트레칭,가슴/어깨 앞쪽 스트레칭...</td>\n",
              "      <td>전신 루틴 스트레칭</td>\n",
              "    </tr>\n",
              "    <tr>\n",
              "      <th>4189671</th>\n",
              "      <td>420930</td>\n",
              "      <td>22</td>\n",
              "      <td>2등급</td>\n",
              "      <td>M</td>\n",
              "      <td>177.2</td>\n",
              "      <td>70.90</td>\n",
              "      <td>자가근막이완술 루틴 스트레칭</td>\n",
              "      <td>넙다리 스트레칭,엉덩이 스트레칭,허리 스트레칭,배 스트레칭,가슴/어깨 앞쪽 스트레칭...</td>\n",
              "      <td>전신 루틴 스트레칭</td>\n",
              "    </tr>\n",
              "  </tbody>\n",
              "</table>\n",
              "<p>188819 rows × 9 columns</p>\n",
              "</div>"
            ],
            "text/plain": [
              "         USER_ID  ...                       마무리운동\n",
              "0              0  ...                  하지 루틴 스트레칭\n",
              "1              3  ...                  전신 루틴 스트레칭\n",
              "2              4  ...       상지 루틴 스트레칭,전신 루틴 스트레칭\n",
              "3              5  ...                  전신 루틴 스트레칭\n",
              "4              7  ...                       자전거타기\n",
              "...          ...  ...                         ...\n",
              "4189667   420926  ...                  전신 루틴 스트레칭\n",
              "4189668   420927  ...                  전신 루틴 스트레칭\n",
              "4189669   420928  ...  전신 루틴 스트레칭,자가근막이완술 루틴 스트레칭\n",
              "4189670   420929  ...                  전신 루틴 스트레칭\n",
              "4189671   420930  ...                  전신 루틴 스트레칭\n",
              "\n",
              "[188819 rows x 9 columns]"
            ]
          },
          "metadata": {},
          "execution_count": 52
        }
      ]
    },
    {
      "cell_type": "markdown",
      "metadata": {
        "id": "29s2Dq8Btugw"
      },
      "source": [
        "상장 등급 변환"
      ]
    },
    {
      "cell_type": "code",
      "metadata": {
        "id": "w-jU4uZ5twwJ"
      },
      "source": [
        "# 상장 구분 -> 운동 강도 변환 함수\n",
        "def convert_cert(df):\n",
        "    tmp = df[(df['CERT_GBN'] == '참가증') | (df['CERT_GBN'] == '3등급') | (df['CERT_GBN'] == '2등급') | (df['CERT_GBN'] == '1등급')].copy()\n",
        "    tmp['CERT_GBN'] = tmp['CERT_GBN'].apply(lambda x : '하' if (x=='참가증') | (x=='3등급') else '중' if(x=='2등급') else '상' )\n",
        "    return tmp"
      ],
      "execution_count": null,
      "outputs": []
    },
    {
      "cell_type": "code",
      "metadata": {
        "id": "e3EKM63_ty7R"
      },
      "source": [
        "merge_df = convert_cert(merge_df)"
      ],
      "execution_count": null,
      "outputs": []
    },
    {
      "cell_type": "code",
      "metadata": {
        "colab": {
          "base_uri": "https://localhost:8080/",
          "height": 493
        },
        "id": "MbGLNNGNIAQV",
        "outputId": "d3317ffe-556b-413a-bb55-300d4b3286e6"
      },
      "source": [
        "merge_df"
      ],
      "execution_count": null,
      "outputs": [
        {
          "output_type": "execute_result",
          "data": {
            "text/html": [
              "<div>\n",
              "<style scoped>\n",
              "    .dataframe tbody tr th:only-of-type {\n",
              "        vertical-align: middle;\n",
              "    }\n",
              "\n",
              "    .dataframe tbody tr th {\n",
              "        vertical-align: top;\n",
              "    }\n",
              "\n",
              "    .dataframe thead th {\n",
              "        text-align: right;\n",
              "    }\n",
              "</style>\n",
              "<table border=\"1\" class=\"dataframe\">\n",
              "  <thead>\n",
              "    <tr style=\"text-align: right;\">\n",
              "      <th></th>\n",
              "      <th>USER_ID</th>\n",
              "      <th>TEST_AGE</th>\n",
              "      <th>CERT_GBN</th>\n",
              "      <th>TEST_SEX</th>\n",
              "      <th>HEIGHT</th>\n",
              "      <th>WEIGHT</th>\n",
              "      <th>준비운동</th>\n",
              "      <th>본운동</th>\n",
              "      <th>마무리운동</th>\n",
              "    </tr>\n",
              "  </thead>\n",
              "  <tbody>\n",
              "    <tr>\n",
              "      <th>0</th>\n",
              "      <td>0</td>\n",
              "      <td>68</td>\n",
              "      <td>하</td>\n",
              "      <td>F</td>\n",
              "      <td>153.5</td>\n",
              "      <td>45.90</td>\n",
              "      <td>자가근막이완술 루틴 스트레칭</td>\n",
              "      <td>의자 이용 중심 잡기 루틴 운동</td>\n",
              "      <td>하지 루틴 스트레칭</td>\n",
              "    </tr>\n",
              "    <tr>\n",
              "      <th>1</th>\n",
              "      <td>3</td>\n",
              "      <td>21</td>\n",
              "      <td>하</td>\n",
              "      <td>M</td>\n",
              "      <td>178.7</td>\n",
              "      <td>74.66</td>\n",
              "      <td>걷기</td>\n",
              "      <td>윗몸 말아 올리기,달리기</td>\n",
              "      <td>전신 루틴 스트레칭</td>\n",
              "    </tr>\n",
              "    <tr>\n",
              "      <th>2</th>\n",
              "      <td>4</td>\n",
              "      <td>55</td>\n",
              "      <td>하</td>\n",
              "      <td>F</td>\n",
              "      <td>155.4</td>\n",
              "      <td>62.20</td>\n",
              "      <td>전신 루틴 스트레칭,유산소 운동 전 동적 루틴 스트레칭</td>\n",
              "      <td>바벨들어올리기,앉았다 일어서기,엎드려 버티기,팔굽혀펴기,달리기,앉았다 일어서면서 점프하기</td>\n",
              "      <td>상지 루틴 스트레칭,전신 루틴 스트레칭</td>\n",
              "    </tr>\n",
              "    <tr>\n",
              "      <th>3</th>\n",
              "      <td>5</td>\n",
              "      <td>19</td>\n",
              "      <td>하</td>\n",
              "      <td>M</td>\n",
              "      <td>168.0</td>\n",
              "      <td>48.00</td>\n",
              "      <td>걷기</td>\n",
              "      <td>달리기,무릎 높여 제자리 달리기</td>\n",
              "      <td>전신 루틴 스트레칭</td>\n",
              "    </tr>\n",
              "    <tr>\n",
              "      <th>4</th>\n",
              "      <td>7</td>\n",
              "      <td>52</td>\n",
              "      <td>하</td>\n",
              "      <td>F</td>\n",
              "      <td>163.0</td>\n",
              "      <td>64.78</td>\n",
              "      <td>걷기</td>\n",
              "      <td>하지 루틴 스트레칭,전신 루틴 스트레칭</td>\n",
              "      <td>자전거타기</td>\n",
              "    </tr>\n",
              "    <tr>\n",
              "      <th>...</th>\n",
              "      <td>...</td>\n",
              "      <td>...</td>\n",
              "      <td>...</td>\n",
              "      <td>...</td>\n",
              "      <td>...</td>\n",
              "      <td>...</td>\n",
              "      <td>...</td>\n",
              "      <td>...</td>\n",
              "      <td>...</td>\n",
              "    </tr>\n",
              "    <tr>\n",
              "      <th>4189667</th>\n",
              "      <td>420926</td>\n",
              "      <td>25</td>\n",
              "      <td>상</td>\n",
              "      <td>F</td>\n",
              "      <td>156.5</td>\n",
              "      <td>50.50</td>\n",
              "      <td>유산소 운동 전 동적 루틴 스트레칭</td>\n",
              "      <td>걷기,달리기,자전거타기,계단 올라갔다 내려오기</td>\n",
              "      <td>전신 루틴 스트레칭</td>\n",
              "    </tr>\n",
              "    <tr>\n",
              "      <th>4189668</th>\n",
              "      <td>420927</td>\n",
              "      <td>21</td>\n",
              "      <td>하</td>\n",
              "      <td>F</td>\n",
              "      <td>158.0</td>\n",
              "      <td>62.50</td>\n",
              "      <td>유산소 운동 전 동적 루틴 스트레칭</td>\n",
              "      <td>걷기,달리기,자전거타기,계단 올라갔다 내려오기</td>\n",
              "      <td>전신 루틴 스트레칭</td>\n",
              "    </tr>\n",
              "    <tr>\n",
              "      <th>4189669</th>\n",
              "      <td>420928</td>\n",
              "      <td>28</td>\n",
              "      <td>중</td>\n",
              "      <td>M</td>\n",
              "      <td>180.7</td>\n",
              "      <td>66.90</td>\n",
              "      <td>걷기,계단 뛰기</td>\n",
              "      <td>엎드려서 다리 차올리기,의자 앞에서 앉았다 일어서기,엎드려 버티기,누워서 엉덩이 들...</td>\n",
              "      <td>전신 루틴 스트레칭,자가근막이완술 루틴 스트레칭</td>\n",
              "    </tr>\n",
              "    <tr>\n",
              "      <th>4189670</th>\n",
              "      <td>420929</td>\n",
              "      <td>63</td>\n",
              "      <td>하</td>\n",
              "      <td>F</td>\n",
              "      <td>156.7</td>\n",
              "      <td>60.50</td>\n",
              "      <td>자가근막이완술 루틴 스트레칭</td>\n",
              "      <td>넙다리 스트레칭,엉덩이 스트레칭,허리 스트레칭,배 스트레칭,가슴/어깨 앞쪽 스트레칭...</td>\n",
              "      <td>전신 루틴 스트레칭</td>\n",
              "    </tr>\n",
              "    <tr>\n",
              "      <th>4189671</th>\n",
              "      <td>420930</td>\n",
              "      <td>22</td>\n",
              "      <td>중</td>\n",
              "      <td>M</td>\n",
              "      <td>177.2</td>\n",
              "      <td>70.90</td>\n",
              "      <td>자가근막이완술 루틴 스트레칭</td>\n",
              "      <td>넙다리 스트레칭,엉덩이 스트레칭,허리 스트레칭,배 스트레칭,가슴/어깨 앞쪽 스트레칭...</td>\n",
              "      <td>전신 루틴 스트레칭</td>\n",
              "    </tr>\n",
              "  </tbody>\n",
              "</table>\n",
              "<p>188805 rows × 9 columns</p>\n",
              "</div>"
            ],
            "text/plain": [
              "         USER_ID  ...                       마무리운동\n",
              "0              0  ...                  하지 루틴 스트레칭\n",
              "1              3  ...                  전신 루틴 스트레칭\n",
              "2              4  ...       상지 루틴 스트레칭,전신 루틴 스트레칭\n",
              "3              5  ...                  전신 루틴 스트레칭\n",
              "4              7  ...                       자전거타기\n",
              "...          ...  ...                         ...\n",
              "4189667   420926  ...                  전신 루틴 스트레칭\n",
              "4189668   420927  ...                  전신 루틴 스트레칭\n",
              "4189669   420928  ...  전신 루틴 스트레칭,자가근막이완술 루틴 스트레칭\n",
              "4189670   420929  ...                  전신 루틴 스트레칭\n",
              "4189671   420930  ...                  전신 루틴 스트레칭\n",
              "\n",
              "[188805 rows x 9 columns]"
            ]
          },
          "metadata": {},
          "execution_count": 56
        }
      ]
    },
    {
      "cell_type": "code",
      "metadata": {
        "id": "elvlTFPbWyey"
      },
      "source": [
        "merge_df.to_csv('../Data/04.processed_data.csv',encoding='cp949',index=False)"
      ],
      "execution_count": null,
      "outputs": []
    },
    {
      "cell_type": "code",
      "metadata": {
        "id": "oueF_1bZJy5C"
      },
      "source": [
        ""
      ],
      "execution_count": null,
      "outputs": []
    }
  ]
}