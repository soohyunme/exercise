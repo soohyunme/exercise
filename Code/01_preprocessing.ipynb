{
  "nbformat": 4,
  "nbformat_minor": 0,
  "metadata": {
    "colab": {
      "name": "01.preprocessing.ipynb",
      "provenance": [],
      "collapsed_sections": [],
      "mount_file_id": "1uzaWirOvlBRAFYID5HbCV0IgAICO9RnE",
      "authorship_tag": "ABX9TyPDWxVqrHzXDuVAphyxA+1O",
      "include_colab_link": true
    },
    "kernelspec": {
      "name": "python3",
      "display_name": "Python 3"
    },
    "language_info": {
      "name": "python"
    }
  },
  "cells": [
    {
      "cell_type": "markdown",
      "metadata": {
        "id": "view-in-github",
        "colab_type": "text"
      },
      "source": [
        "<a href=\"https://colab.research.google.com/github/soohyunme/exercise/blob/main/Code/01_preprocessing.ipynb\" target=\"_parent\"><img src=\"https://colab.research.google.com/assets/colab-badge.svg\" alt=\"Open In Colab\"/></a>"
      ]
    },
    {
      "cell_type": "code",
      "metadata": {
        "colab": {
          "base_uri": "https://localhost:8080/"
        },
        "id": "6ojDdKSzmYsS",
        "outputId": "2cebe3db-5daa-4b2b-b550-41c625559366"
      },
      "source": [
        "cd /content/drive/MyDrive/4조/01.체육공모전/Code"
      ],
      "execution_count": 1,
      "outputs": [
        {
          "output_type": "stream",
          "name": "stdout",
          "text": [
            "/content/drive/.shortcut-targets-by-id/159Rw9eptrdiP8wihxnfPLcnRcwjx1x8n/4조/01.체육공모전/Code\n"
          ]
        }
      ]
    },
    {
      "cell_type": "markdown",
      "metadata": {
        "id": "rWExeJzgVElj"
      },
      "source": [
        "# 모듈 로드"
      ]
    },
    {
      "cell_type": "code",
      "metadata": {
        "id": "oWYad-7-mpbe"
      },
      "source": [
        "import pandas as pd\n",
        "from tqdm import tqdm\n",
        "import itertools"
      ],
      "execution_count": 2,
      "outputs": []
    },
    {
      "cell_type": "code",
      "metadata": {
        "id": "XBX4R4-qTVhi"
      },
      "source": [
        "test_origin= pd.read_csv('../Data/02.항목별_체력측정_데이터_1721.csv',encoding='cp949')\n",
        "exercise_origin = pd.read_csv('../Data/03.운동처방_데이터_1721.csv',encoding='cp949')"
      ],
      "execution_count": 3,
      "outputs": []
    },
    {
      "cell_type": "markdown",
      "metadata": {
        "id": "BlOKyHl5VK3z"
      },
      "source": [
        "# 컬럼 전처리"
      ]
    },
    {
      "cell_type": "markdown",
      "metadata": {
        "id": "SXjn-NL8KyOe"
      },
      "source": [
        "**운동 이름 사전 정의**\n",
        "\n",
        "회전근개 스트레칭1, 2 -> 회전근개 스트레칭"
      ]
    },
    {
      "cell_type": "code",
      "metadata": {
        "id": "Nao0lggVnv39"
      },
      "source": [
        "replace_dict = {'회전근개 스트레칭2':'회전근개 스트레칭','골다공증을 위한 근력운동2':'골다공증을 위한 근력운동','골다공증을 위한 근력운동1':'골다공증을 위한 근력운동','엉덩이 스트레칭2':'엉덩이 스트레칭',\n",
        "                '골반 스트레칭2':'골반 스트레칭','관절염을 위한 근력운동2':'관절염을 위한 근력운동','관절염을 위한 근력운동1':'관절염을 위한 근력운동','순간반응 콘 찍기 2':'순간반응 콘 찍기',\n",
        "                '마주 앉아 대퇴이두근 스트레칭2':'마주 앉아 대퇴이두근 스트레칭','2단 줄넘기':'줄넘기','1단 줄넘기':'줄넘기','줄넘기 운동':'줄넘기','대퇴이두근 스트레칭2':'대퇴이두근 스트레칭',\n",
        "                '요통을 위한 스트레칭2':'요통을 위한 스트레칭','요통을 위한 스트레칭1':'요통을 위한 스트레칭','하지 루틴 스트레칭1':'하지 루틴 스트레칭','하지 루틴 스트레칭2':'하지 루틴 스트레칭',\n",
        "                '계단 두 칸씩 뛰기':'계단 뛰기','계단 두발 뛰기':'계단 뛰기','계단 뛰어 오르기':'계단 뛰기','계단 한발 뛰기':'계단 뛰기','계단 뛰어 오르기':'계단 뛰기',\n",
        "                '넙다리 뒤쪽 스트레칭':'넙다리 스트레칭','넙다리 안쪽 스트레칭':'넙다리 스트레칭','넙다리 앞쪽 스트레칭':'넙다리 스트레칭','목 굽힘/ 폄 I':'목 굽힘/ 폄',\n",
        "                '목 굽힘/ 폄 II':'목 굽힘/ 폄','목 굽힘/ 폄 III':'목 굽힘/ 폄','누워서 배가로근 수축 I':'누워서 배가로근 수축','누워서 배가로근 수축 II':'누워서 배가로근 수축',\n",
        "                '서서 다리로 탄력밴드 당기기 II':'서서 다리로 탄력밴드 당기기','서서 다리로 탄력밴드 당기기 I':'서서 다리로 탄력밴드 당기기','등척성운동-바깥돌림':'등척성운동',\n",
        "                '등척성운동-벌림':'등척성운동','등척성운동-안쪽 돌림':'등척성운동','목 당기기':'목 스트레칭','목 돌리기':'목 스트레칭','목 돌림 스트레칭':'목 스트레칭',\n",
        "                '바벨 잡고 들어올리기':'바벨들어올리기','버피 테스트':'버피운동','베개 밟고 교차 서기':'베개 밟고 서기','베개 밟고 대각방향으로 서기':'베개 밟고 서기','베개 밟고 두발 모아 서기':'베개 밟고 서기',\n",
        "                '베개 밟고 서기':'베게 밟고 서기','베개 밟고 서기 평형성 운동 루틴 프로그램':'베개 밟고 서기', '사다리 운동  루틴프로그램':'사다리 이용 루틴 운동','실내 자전거타기':'자전거타기',\n",
        "                '실외 자전거타기':'자전거타기','고정식 자전거 타기':'자전거타기','아쿠아로빅':'아쿠아로빅', '아쿠아로빅-몸 기울이기/회전하기':'아쿠아로빅', '아쿠아로빅-물누르기/올리기':'아쿠아로빅',\n",
        "                '아쿠아로빅-물당기기/밀기':'아쿠아로빅','아쿠아로빅-발 닿기':'아쿠아로빅','아쿠아로빅-엉덩관절 회전하기':'아쿠아로빅','아쿠아로빅-옆구리 늘리기':'아쿠아로빅',\n",
        "                '고정식 트레드밀에서 걷기':'걷기', '트레드밀에서 걷기':'걷기','조깅':'달리기','배스트레칭':'배 스트레칭','윗몸말아올리기':'윗몸 말아 올리기'}"
      ],
      "execution_count": 4,
      "outputs": []
    },
    {
      "cell_type": "markdown",
      "metadata": {
        "id": "NVooNqLwVMOz"
      },
      "source": [
        "준비운동 / 본운동 / 마무리운동 분류"
      ]
    },
    {
      "cell_type": "code",
      "metadata": {
        "id": "CLYmXccWTlI-"
      },
      "source": [
        "pre_exercise = {}\n",
        "main_exercise = {}\n",
        "finish_exercise = {}\n",
        "\n",
        "exercise_origin['split'] = exercise_origin['PRES_NOTE'].apply(lambda x : x.split(' / '))"
      ],
      "execution_count": 5,
      "outputs": []
    },
    {
      "cell_type": "code",
      "metadata": {
        "colab": {
          "base_uri": "https://localhost:8080/"
        },
        "id": "yCppJGgoUc1b",
        "outputId": "e15b1f9a-f196-4be1-f61d-5c4bb67d38df"
      },
      "source": [
        "for i in tqdm(range(0,len(exercise_origin))):\n",
        "  for each_of_row in exercise_origin.iloc[i]['split']:\n",
        "          ex_list = each_of_row.split(':')[1:]\n",
        "          ex_list = ex_list[0].split(',')\n",
        "          counter = 0\n",
        "          tmp_list = []\n",
        "          tmp_string = ''\n",
        "          for str in ex_list:\n",
        "              str = str.strip()\n",
        "              if str in replace_dict:\n",
        "                str = replace_dict[str]\n",
        "              if str in tmp_list:\n",
        "                continue\n",
        "              tmp_list.append(str)\n",
        "              if counter == len(ex_list)-1:\n",
        "                  tmp_string += str\n",
        "              else:\n",
        "                  tmp_string += str+','\n",
        "              counter +=1\n",
        "          if '준비운동:' in each_of_row:\n",
        "              if ',' == tmp_string[-1]:\n",
        "                pre_exercise[i] = tmp_string[:-1]\n",
        "              else:\n",
        "                pre_exercise[i] = tmp_string\n",
        "          elif '본운동:' in each_of_row:\n",
        "            if ',' == tmp_string[-1]:\n",
        "              main_exercise[i] = tmp_string[:-1]\n",
        "            else:\n",
        "              main_exercise[i] = tmp_string\n",
        "          else:\n",
        "            if ',' == tmp_string[-1]:\n",
        "              finish_exercise[i] = tmp_string[:-1]\n",
        "            else:\n",
        "              finish_exercise[i] = tmp_string      "
      ],
      "execution_count": 6,
      "outputs": [
        {
          "output_type": "stream",
          "name": "stderr",
          "text": [
            "100%|██████████| 844875/844875 [02:37<00:00, 5361.86it/s]\n"
          ]
        }
      ]
    },
    {
      "cell_type": "code",
      "metadata": {
        "id": "KsYyfQs8VBgT"
      },
      "source": [
        "pre_df = pd.DataFrame(pre_exercise.values(),pre_exercise.keys(),columns=['준비운동'])\n",
        "main_df = pd.DataFrame(main_exercise.values(),main_exercise.keys(),columns=['본운동'])\n",
        "finish_df = pd.DataFrame(finish_exercise.values(),finish_exercise.keys(),columns=['마무리운동'])\n",
        "ex_df = pd.concat([pre_df,main_df,finish_df],axis=1).fillna('없음')\n"
      ],
      "execution_count": 7,
      "outputs": []
    },
    {
      "cell_type": "code",
      "metadata": {
        "id": "FpsRy6ZhVXtl"
      },
      "source": [
        "ex_split_df = pd.concat([exercise_origin.drop(['PRES_NOTE','split'],axis=1),ex_df],axis=1)"
      ],
      "execution_count": 8,
      "outputs": []
    },
    {
      "cell_type": "markdown",
      "metadata": {
        "id": "LiEeDjZ57qNt"
      },
      "source": [
        "전체 운동 개수 계산 및 운동 DB 파일 생성"
      ]
    },
    {
      "cell_type": "code",
      "metadata": {
        "id": "CcD5p4mW9CE8"
      },
      "source": [
        "all_ex = set()\n",
        "df_list = [pre_df,main_df,finish_df]\n",
        "for df in df_list:\n",
        "    for each_list in df.iloc[:,0]:\n",
        "        all_ex.update(each_list.split(','))"
      ],
      "execution_count": 9,
      "outputs": []
    },
    {
      "cell_type": "code",
      "metadata": {
        "id": "a-v95RHJ9buF"
      },
      "source": [
        "all_ex_df = pd.DataFrame(all_ex,columns=['EX_NM']).reset_index().rename(columns={'index':'EX_ID'})\n",
        "# all_ex_df.to_csv('../Data/exercise_DB.csv',encoding='cp949',index=False)\n"
      ],
      "execution_count": 10,
      "outputs": []
    },
    {
      "cell_type": "markdown",
      "metadata": {
        "id": "UHtlS9xOXWR4"
      },
      "source": [
        "# 운동 처방되지 않은 행 제거"
      ]
    },
    {
      "cell_type": "code",
      "metadata": {
        "id": "yLyPb-LIXZ-z"
      },
      "source": [
        "dropna_df = ex_split_df[(ex_split_df['준비운동']!='없음') & (ex_split_df['본운동']!='없음') & (ex_split_df['마무리운동']!='없음')]"
      ],
      "execution_count": 11,
      "outputs": []
    },
    {
      "cell_type": "code",
      "metadata": {
        "id": "-1EA9B6zVZdo"
      },
      "source": [
        "# dropna_df.to_csv('../Data/운동처방1721_운동분리.csv',encoding='cp949',index=False)"
      ],
      "execution_count": 12,
      "outputs": []
    },
    {
      "cell_type": "markdown",
      "metadata": {
        "id": "85eV4LWTWtRS"
      },
      "source": [
        "# 체력측정 데이터 병합"
      ]
    },
    {
      "cell_type": "code",
      "metadata": {
        "id": "YqjFrBSTWrgD"
      },
      "source": [
        "# dropna_df = pd.read_csv('../Data/운동처방1721_운동분리.csv',encoding='cp949')"
      ],
      "execution_count": 13,
      "outputs": []
    },
    {
      "cell_type": "code",
      "metadata": {
        "id": "j4nLLj2aWs0b"
      },
      "source": [
        "id_df = dropna_df.reset_index().rename(columns={'index':'USER_ID'})\n",
        "test_merge = test_origin.dropna(subset=['ITEM_F018','ITEM_F003'])"
      ],
      "execution_count": 14,
      "outputs": []
    },
    {
      "cell_type": "code",
      "metadata": {
        "id": "Z7a6mmWlWxLH"
      },
      "source": [
        "total_df = id_df.merge(test_merge,how='inner',on=['TEST_CNT', 'CENTER_NM', 'AGE_GBN', 'TEST_GBN', 'TEST_AGE', 'INPUT_GBN',\n",
        "        'CERT_GBN', 'TEST_YMD', 'TEST_SEX']).drop_duplicates(subset=['USER_ID'],keep=False)\n",
        "merge_df = total_df.rename(columns={'ITEM_F001':'HEIGHT','ITEM_F002':'WEIGHT'})[['USER_ID', 'TEST_AGE',\n",
        "        'CERT_GBN', 'TEST_SEX', 'HEIGHT', 'WEIGHT' , '준비운동', '본운동', '마무리운동']]"
      ],
      "execution_count": 15,
      "outputs": []
    },
    {
      "cell_type": "markdown",
      "metadata": {
        "id": "29s2Dq8Btugw"
      },
      "source": [
        "상장 등급 변환"
      ]
    },
    {
      "cell_type": "code",
      "metadata": {
        "id": "w-jU4uZ5twwJ"
      },
      "source": [
        "# 상장 구분 -> 운동 강도 변환 함수\n",
        "def convert_cert(df):\n",
        "    tmp = df[(df['CERT_GBN'] == '참가증') | (df['CERT_GBN'] == '3등급') | (df['CERT_GBN'] == '2등급') | (df['CERT_GBN'] == '1등급')].copy()\n",
        "    tmp['CERT_GBN'] = tmp['CERT_GBN'].apply(lambda x : '하' if (x=='참가증') | (x=='3등급') else '중' if(x=='2등급') else '상' )\n",
        "    return tmp"
      ],
      "execution_count": 16,
      "outputs": []
    },
    {
      "cell_type": "code",
      "metadata": {
        "id": "e3EKM63_ty7R"
      },
      "source": [
        "merge_df = convert_cert(merge_df)"
      ],
      "execution_count": 17,
      "outputs": []
    },
    {
      "cell_type": "markdown",
      "metadata": {
        "id": "ZnpA80Kh577S"
      },
      "source": [
        "# 유저 그룹 생성"
      ]
    },
    {
      "cell_type": "markdown",
      "source": [
        "### 유저 그룹 정의"
      ],
      "metadata": {
        "id": "1bYjmae_mWxc"
      }
    },
    {
      "cell_type": "code",
      "metadata": {
        "id": "8ofMrpUV7byv"
      },
      "source": [
        "cert = ['상', '중', '하']\n",
        "sex = ['F', 'M']\n",
        "age = ['10대', '20대', '30대', '40대', '50대', '60대', '70대 이상']\n",
        "bmi = ['저체중', '정상', '비만전단계','1단계비만', '2단계비만', '3단계비만']"
      ],
      "execution_count": 18,
      "outputs": []
    },
    {
      "cell_type": "code",
      "metadata": {
        "id": "cyOUj2Ts77Nn"
      },
      "source": [
        "group = itertools.product(cert,sex,age,bmi)\n",
        "group_df = pd.DataFrame(group).reset_index()\n",
        "group_df.columns = ['GROUP_ID','CERT_GBN', 'TEST_SEX', 'AGRDE_SE', 'BMI']"
      ],
      "execution_count": 19,
      "outputs": []
    },
    {
      "cell_type": "markdown",
      "source": [
        "### 범주 변환 함수"
      ],
      "metadata": {
        "id": "W0RI1_qXlyKE"
      }
    },
    {
      "cell_type": "code",
      "source": [
        "# 나이를 연령대로 변환\n",
        "def age_group(df):\n",
        "  df['AGRDE_SE'] = df['TEST_AGE'].apply(lambda x : '10대' if x<20 else (\\\n",
        "                                                    '20대' if x<30 else (\\\n",
        "                                                      '30대' if x<40 else (\\\n",
        "                                                    '40대' if x<50 else (\\\n",
        "                                                    '50대' if x<60 else (\\\n",
        "                                                      '60대' if x<70 else (\\\n",
        "                                                    '70대 이상' )))))))\n",
        "  return df"
      ],
      "metadata": {
        "id": "cNgCSE0_hmOK"
      },
      "execution_count": 20,
      "outputs": []
    },
    {
      "cell_type": "code",
      "source": [
        "# 키와 몸무게를 통해 BMI 계산, BMI를 통해 비만 단계 변환\n",
        "def bmi_group(df):\n",
        "  bmi = pd.Series(round(df['WEIGHT'] / (df['HEIGHT']/100)**2,1),name='BMI')\n",
        "  bmi_g = bmi.apply(lambda x : '3단계비만' if x>=35 else (\\\n",
        "                                                    '2단계비만' if x>=30 else (\\\n",
        "                                                      '1단계비만' if x>=25 else (\\\n",
        "                                                    '비만전단계' if x>=23 else (\\\n",
        "                                                    '정상' if x>=18.5 else '저체중')))))\n",
        "  result = pd.concat([df,bmi_g],axis=1)\n",
        "  return result"
      ],
      "metadata": {
        "id": "kzEvGKW2lEMS"
      },
      "execution_count": 21,
      "outputs": []
    },
    {
      "cell_type": "code",
      "source": [
        "# Add user group column\n",
        "def add_group(df):\n",
        "  result = df.merge(group_df,how='inner')\n",
        "  return result\n"
      ],
      "metadata": {
        "id": "gmbKM8dblE9Q"
      },
      "execution_count": 22,
      "outputs": []
    },
    {
      "cell_type": "code",
      "source": [
        "# 유저 정보를 그룹 ID로 단일화\n",
        "def transform(df):\n",
        "  result = age_group(df.copy())\n",
        "  result = bmi_group(result)\n",
        "  result = add_group(result)\n",
        "  if '준비운동' in df.columns:\n",
        "    result = result[['USER_ID', 'GROUP_ID', '준비운동', '본운동', '마무리운동']]\n",
        "  else:\n",
        "    result = result[['USER_ID', 'GROUP_ID']]\n",
        "  return result\n"
      ],
      "metadata": {
        "id": "YOqMwmuIunIB"
      },
      "execution_count": 23,
      "outputs": []
    },
    {
      "cell_type": "code",
      "source": [
        "result_df = transform(merge_df)"
      ],
      "metadata": {
        "id": "C63JnpDpu0S_"
      },
      "execution_count": 24,
      "outputs": []
    },
    {
      "cell_type": "code",
      "metadata": {
        "id": "elvlTFPbWyey"
      },
      "source": [
        "result_df.to_csv('../Data/04.processed_data.csv',encoding='cp949',index=False)"
      ],
      "execution_count": 25,
      "outputs": []
    },
    {
      "cell_type": "code",
      "source": [
        ""
      ],
      "metadata": {
        "id": "jUXO8j0b_iWy"
      },
      "execution_count": null,
      "outputs": []
    }
  ]
}