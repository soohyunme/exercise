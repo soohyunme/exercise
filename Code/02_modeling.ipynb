{
  "nbformat": 4,
  "nbformat_minor": 0,
  "metadata": {
    "colab": {
      "name": "02.modeling.ipynb",
      "provenance": [],
      "collapsed_sections": [],
      "mount_file_id": "15OdZhMaTEj-kvrY7Jv3EWW-qIke_PSSf",
      "authorship_tag": "ABX9TyN96al7DHIoQgMDZN/fkNuk",
      "include_colab_link": true
    },
    "kernelspec": {
      "name": "python3",
      "display_name": "Python 3"
    },
    "language_info": {
      "name": "python"
    }
  },
  "cells": [
    {
      "cell_type": "markdown",
      "metadata": {
        "id": "view-in-github",
        "colab_type": "text"
      },
      "source": [
        "<a href=\"https://colab.research.google.com/github/soohyunme/exercise/blob/main/Code/02_modeling.ipynb\" target=\"_parent\"><img src=\"https://colab.research.google.com/assets/colab-badge.svg\" alt=\"Open In Colab\"/></a>"
      ]
    },
    {
      "cell_type": "code",
      "metadata": {
        "colab": {
          "base_uri": "https://localhost:8080/"
        },
        "id": "6ojDdKSzmYsS",
        "outputId": "fea6fa9b-6c8e-4c25-8fd8-ab205c5b2089"
      },
      "source": [
        "cd /content/drive/MyDrive/4조/01.체육공모전/Code"
      ],
      "execution_count": 145,
      "outputs": [
        {
          "output_type": "stream",
          "name": "stdout",
          "text": [
            "/content/drive/.shortcut-targets-by-id/159Rw9eptrdiP8wihxnfPLcnRcwjx1x8n/4조/01.체육공모전/Code\n"
          ]
        }
      ]
    },
    {
      "cell_type": "markdown",
      "metadata": {
        "id": "fRXj3DAwg6QC"
      },
      "source": [
        "# 모듈 로드"
      ]
    },
    {
      "cell_type": "code",
      "metadata": {
        "id": "uxPtDIWEfF3v"
      },
      "source": [
        "import random\n",
        "import pandas as pd\n",
        "import numpy as np\n",
        "from mlxtend.preprocessing import TransactionEncoder\n",
        "from mlxtend.frequent_patterns import apriori\n",
        "from mlxtend.frequent_patterns import association_rules\n"
      ],
      "execution_count": 146,
      "outputs": []
    },
    {
      "cell_type": "markdown",
      "source": [
        "### 범주 변환 함수"
      ],
      "metadata": {
        "id": "W0RI1_qXlyKE"
      }
    },
    {
      "cell_type": "code",
      "source": [
        "# 나이를 연령대로 변환\n",
        "def age_group(df):\n",
        "  df['AGRDE_SE'] = df['TEST_AGE'].apply(lambda x : '10대' if x<20 else (\\\n",
        "                                                    '20대' if x<30 else (\\\n",
        "                                                      '30대' if x<40 else (\\\n",
        "                                                    '40대' if x<50 else (\\\n",
        "                                                    '50대' if x<60 else (\\\n",
        "                                                      '60대' if x<70 else (\\\n",
        "                                                    '70대 이상' )))))))\n",
        "  return df"
      ],
      "metadata": {
        "id": "cNgCSE0_hmOK"
      },
      "execution_count": 147,
      "outputs": []
    },
    {
      "cell_type": "code",
      "source": [
        "# 키와 몸무게를 통해 BMI 계산, BMI를 통해 비만 단계 변환\n",
        "def bmi_group(df):\n",
        "  bmi = pd.Series(round(df['WEIGHT'] / (df['HEIGHT']/100)**2,1),name='BMI')\n",
        "  bmi_g = bmi.apply(lambda x : '3단계비만' if x>=35 else (\\\n",
        "                                                    '2단계비만' if x>=30 else (\\\n",
        "                                                      '1단계비만' if x>=25 else (\\\n",
        "                                                    '비만전단계' if x>=23 else (\\\n",
        "                                                    '정상' if x>=18.5 else '저체중')))))\n",
        "  result = pd.concat([df,bmi_g],axis=1)\n",
        "  return result"
      ],
      "metadata": {
        "id": "kzEvGKW2lEMS"
      },
      "execution_count": 148,
      "outputs": []
    },
    {
      "cell_type": "code",
      "source": [
        "# Add user group column\n",
        "def add_group(df):\n",
        "  result = df.merge(group_df,how='inner')\n",
        "  return result\n"
      ],
      "metadata": {
        "id": "gmbKM8dblE9Q"
      },
      "execution_count": 149,
      "outputs": []
    },
    {
      "cell_type": "code",
      "source": [
        "# 그룹 정보 추가\n",
        "def transform(df):\n",
        "  result = age_group(df.copy())\n",
        "  result = bmi_group(result)\n",
        "  result = add_group(result)\n",
        "  if '준비운동' in df.columns:\n",
        "    result = result[['USER_ID', 'GROUP_ID', 'TEST_AGE', 'CERT_GBN', 'TEST_SEX', 'HEIGHT', 'WEIGHT', 'AGRDE_SE', 'BMI',\n",
        "       '준비운동', '본운동', '마무리운동']]\n",
        "  else:\n",
        "    result = result[['USER_ID', 'GROUP_ID', 'TEST_AGE', 'CERT_GBN', 'TEST_SEX', 'HEIGHT', 'WEIGHT', 'AGRDE_SE', 'BMI']]\n",
        "  return result\n"
      ],
      "metadata": {
        "id": "YOqMwmuIunIB"
      },
      "execution_count": 150,
      "outputs": []
    },
    {
      "cell_type": "markdown",
      "metadata": {
        "id": "GDXGYH5Cg7uC"
      },
      "source": [
        "# 데이터 로드"
      ]
    },
    {
      "cell_type": "code",
      "metadata": {
        "id": "db3WHqlugaJq"
      },
      "source": [
        "df_origin = pd.read_csv('../Data/04.processed_data.csv',encoding='cp949')\n",
        "group_df = pd.read_csv('../Data/user_group.csv',encoding='cp949')"
      ],
      "execution_count": 151,
      "outputs": []
    },
    {
      "cell_type": "markdown",
      "metadata": {
        "id": "eM4W-b9t8NZr"
      },
      "source": [
        "테스트를 위해 원본 데이터에서 20개만 테스트용으로 분리 후 운동처방정보 삭제"
      ]
    },
    {
      "cell_type": "code",
      "metadata": {
        "id": "V0ZKHJc6g1T8"
      },
      "source": [
        "user_db = df_origin[:-20]\n",
        "sample_user = df_origin[-20:][['USER_ID', 'TEST_AGE', 'CERT_GBN', 'TEST_SEX', 'HEIGHT', 'WEIGHT']] # 유저가 입력하는 정보만 추출"
      ],
      "execution_count": 152,
      "outputs": []
    },
    {
      "cell_type": "code",
      "metadata": {
        "id": "6V4OE2DP2dip"
      },
      "source": [
        "# test input data 저장\n",
        "sample_user.to_csv('../Data/input.csv',encoding='cp949',index=False)"
      ],
      "execution_count": 153,
      "outputs": []
    },
    {
      "cell_type": "code",
      "source": [
        "# 그룹 정보 추가\n",
        "sample_user = transform(sample_user)"
      ],
      "metadata": {
        "id": "GayuDn21kdwf"
      },
      "execution_count": 154,
      "outputs": []
    },
    {
      "cell_type": "markdown",
      "metadata": {
        "id": "-oc54RbfAjQu"
      },
      "source": [
        "# 최빈 운동 세트 선정"
      ]
    },
    {
      "cell_type": "code",
      "source": [
        "# exercise set count df\n",
        "set_df = pd.DataFrame(df_origin[['GROUP_ID','준비운동','본운동','마무리운동']].value_counts()).reset_index().rename(columns={0:'COUNT'})"
      ],
      "metadata": {
        "id": "RkAjlp65pM9z"
      },
      "execution_count": 155,
      "outputs": []
    },
    {
      "cell_type": "markdown",
      "metadata": {
        "id": "G3xO6_wJ5ycX"
      },
      "source": [
        "# 운동 추천 함수"
      ]
    },
    {
      "cell_type": "code",
      "metadata": {
        "id": "Q_rxmq5AXgH_"
      },
      "source": [
        "# 운동 리스트를 통해 희소행렬 도출\n",
        "# input : exercise list / output : sparse matrix\n",
        "def sparse_matrix(ex_list):\n",
        "  te = TransactionEncoder()\n",
        "  te_ary = te.fit(ex_list).transform(ex_list)\n",
        "  sparse_matrix = pd.DataFrame(te_ary, columns=te.columns_)\n",
        "  return sparse_matrix"
      ],
      "execution_count": 156,
      "outputs": []
    },
    {
      "cell_type": "code",
      "metadata": {
        "id": "cKRytw-eARyh"
      },
      "source": [
        "# 연관분석을 통해 선택된 운동과 연관성이 높은 운동 3개를 리턴\n",
        "def ranking(pre_df, main_df, finish_df, ex_list):\n",
        "  global df_list\n",
        "  df_list = [pre_df, main_df, finish_df] # 단계별 연관분석 결과값\n",
        "  result_list = [] # 결과값을 리스트에 담아 하나씩 출력\n",
        "  result_df = pd.DataFrame(columns=pre_df.columns) # 빈 DataFrame 생성\n",
        "\n",
        "  for i in range(len(df_list)): # 운동 단계별 for문 pre, main, finish\n",
        "    global tmp_df \n",
        "    tmp_df = df_list[i] \n",
        "    for each_ex in ex_list[i].split(','): # 각 단계별 운동들을 리스트로 분할\n",
        "      each_ex = each_ex # 운동이름에 공백 제거\n",
        "      if tmp_df.empty:\n",
        "        result_df = pd.DataFrame(columns=pre_df.columns)\n",
        "      else:\n",
        "        each_result = tmp_df[tmp_df['antecedents']==frozenset({each_ex})].sort_values('support') # 추천 세트 운동과의 연관분석 결과를 지지도 순으로 정렬\n",
        "        each_result['consequents'] = each_result['consequents'].apply(lambda x : list(x)[0]) # frozenset to string, 타입변환\n",
        "        length = 3 if len(each_result) else len(each_result) # set length\n",
        "        result_df = pd.concat([result_df,each_result.iloc[:length]]) # 연관성이 높은 운동이 3개 이상일 경우 3개만 저장\n",
        "    result_list.append(result_df['consequents']) # 결과값 리스트에 추가\n",
        "    result_df = None # 초기화\n",
        "  return list(result_list[0]), list(result_list[1]), list(result_list[2]) # 준비, 본, 마무리 운동 연관성 높은 운동 리턴"
      ],
      "execution_count": 157,
      "outputs": []
    },
    {
      "cell_type": "code",
      "metadata": {
        "id": "ImTmnImn0aXA"
      },
      "source": [
        "# select main routine and additional routine\n",
        "def select_exercise(pre_list, main_list, finish_list, max):\n",
        "  main_reco_list = [] # 메인 추천 리스트\n",
        "  sub_reco_list = [] # 추가 추천 리스트\n",
        "  tmp_list = []\n",
        "  asso_list = [pre_list,main_list,finish_list] # 연관 있는 운동 리스트\n",
        "  tmp_set = set()\n",
        "  random_num = random.randint(1, 100) # 임의의 1개 운동을 선택하기 위한 난수 생성\n",
        "  \n",
        "  for i, str in enumerate(max):\n",
        "    ex_list = str.split(',') # 운동 세트에서 각 단계별 운동들\n",
        "    reco_ex = ex_list[random_num %len(ex_list)] # 난수를 통해 임의의 1개 운동 선택\n",
        "    main_reco_list.append(reco_ex) # 메인 추천 리스트에 선택된 운동 삽입\n",
        "\n",
        "    tmp_set.update(ex_list) # 임시 리스트에 max 운동 리스트 삽입\n",
        "    tmp_set.remove(reco_ex) # 선택된 운동 삭제 -> 단계별 최빈 세트 운동에서 메인 추천 운동 제거\n",
        "    tmp_set.update(asso_list[i]) # 연관 분석을 통해 추천된 운동들 추가\n",
        "    tmp_list.append(list(tmp_set)) # 해당 set을 리스트로 변환하여 tmp_list에 추가 -> [ [준,], [본,], [마,] ]\n",
        "  for i, reco in enumerate(tmp_list):\n",
        "    if (len(reco)) == 0:\n",
        "      random_list = ['없음']\n",
        "    elif (len(reco)) < 4:\n",
        "      random_list = reco # 운동 개수가 4개 이하면 전체 운동 적용\n",
        "    else:\n",
        "      random_list = random.sample(reco, 4) # 운동 개수가 4개 초과일 경우 임의로 4개 선택\n",
        "    sub_reco_list.append(random_list)\n",
        "  return list(main_reco_list), list(sub_reco_list)"
      ],
      "execution_count": 158,
      "outputs": []
    },
    {
      "cell_type": "code",
      "metadata": {
        "id": "QmZKz4rCkvxc"
      },
      "source": [
        "# select top 1 exercise set from user info\n",
        "# input : group_id / ouput : recommend_set, sub_recommend_set\n",
        "def mode_set(g_id, min_support = 0.01, min_threshold=0.2):\n",
        "  user_set = set_df[set_df['GROUP_ID']==g_id] # 유저가 해당하는 그룹의 처방 운동 세트 빈도\n",
        "  max_ex_set = list(user_set[user_set['COUNT'] == user_set['COUNT'].max()].iloc[0,1:4]) # 가장 많이 처방된 운동 세트\n",
        "\n",
        "  # 해당 그룹의 단계별 운동 리스트 생성\n",
        "  pre_ex_all = list(user_set['준비운동'].apply(lambda x : x.split(','))) \n",
        "  main_ex_all = list(user_set['본운동'].apply(lambda x : x.split(',')))\n",
        "  finish_ex_all = list(user_set['마무리운동'].apply(lambda x : x.split(',')))\n",
        "\n",
        "  # 단계별 sparse matrix 생성\n",
        "  pre_sparse = sparse_matrix(pre_ex_all)\n",
        "  main_sparse = sparse_matrix(main_ex_all)\n",
        "  finish_sparse = sparse_matrix(finish_ex_all)\n",
        "\n",
        "  # 지지도가 0.01 이상인 운동 선택\n",
        "  pre_itemsets = apriori(pre_sparse, min_support = min_support, use_colnames=True,max_len=2)\n",
        "  main_itemsets = apriori(main_sparse, min_support = min_support, use_colnames=True,max_len=2)\n",
        "  finish_itemsets = apriori(finish_sparse, min_support = min_support, use_colnames=True,max_len=2)\n",
        "\n",
        "  # 그 중에서 신뢰도가 0.2 이상인 운동 선택\n",
        "  pre_select = association_rules(pre_itemsets, metric=\"confidence\", min_threshold=min_threshold)\n",
        "  main_select = association_rules(main_itemsets, metric=\"confidence\", min_threshold=min_threshold)\n",
        "  finish_select = association_rules(finish_itemsets, metric=\"confidence\", min_threshold=min_threshold)\n",
        "\n",
        "  # consequents의 길이가 1인 것만 선택 -> 1개의 운동끼리 비교해서 추천하도록\n",
        "  pre_select = pre_select[pre_select['consequents'].apply(lambda x : len(x) == 1)]\n",
        "  main_select = main_select[main_select['consequents'].apply(lambda x : len(x) == 1)] \n",
        "  finish_select = finish_select[finish_select['consequents'].apply(lambda x : len(x) == 1)]\n",
        "  \n",
        "  # ranking \n",
        "  pre_rank, main_rank, finish_rank = ranking(pre_select, main_select, finish_select, max_ex_set)\n",
        "\n",
        "  # select exercise \n",
        "  recommend_set, sub_recommend_set = select_exercise(pre_rank, main_rank, finish_rank, max_ex_set)\n",
        "  return recommend_set, sub_recommend_set"
      ],
      "execution_count": 159,
      "outputs": []
    },
    {
      "cell_type": "markdown",
      "metadata": {
        "id": "slRVAT8HKRCU"
      },
      "source": [
        "# 맞춤 운동 추천"
      ]
    },
    {
      "cell_type": "code",
      "metadata": {
        "id": "acdMemuc1kzQ"
      },
      "source": [
        "# 변수 선언 및 결과 df 생성\n",
        "main_reco = []\n",
        "sub_reco = []\n",
        "u_id_list = []\n",
        "result_df = sample_user.copy()"
      ],
      "execution_count": 160,
      "outputs": []
    },
    {
      "cell_type": "code",
      "metadata": {
        "id": "QrmtLuDBnE-u"
      },
      "source": [
        "for u_id, g_id in sample_user[['USER_ID','GROUP_ID']].values:\n",
        "  best, sub = mode_set(g_id) # 추천 루틴 및 추가 추천 운동\n",
        "  main_reco.append(list(best)) \n",
        "  sub_reco.append(sub)\n",
        "  u_id_list.append(u_id)"
      ],
      "execution_count": 161,
      "outputs": []
    },
    {
      "cell_type": "code",
      "metadata": {
        "id": "-12IGAQnucX8"
      },
      "source": [
        "# DataFrame 생성\n",
        "reco_df = pd.DataFrame(main_reco,index=u_id_list,columns=['추천준비운동','추천본운동','추천마무리운동'])\n",
        "sub_df = pd.DataFrame(sub_reco,index=u_id_list,columns=['추가준비운동','추가본운동','추가마무리운동'])\n",
        "merge_df = pd.merge(reco_df,sub_df,left_index=True,right_index=True).reset_index().rename(columns={'index':'USER_ID'})\n",
        "result_df = pd.merge(sample_user,merge_df)\n",
        "for column in result_df.iloc[:,-3:]:\n",
        "  result_df[column] = result_df[column].apply(lambda x : (', ').join(x))"
      ],
      "execution_count": 162,
      "outputs": []
    },
    {
      "cell_type": "code",
      "source": [
        "result_df.head(2)"
      ],
      "metadata": {
        "colab": {
          "base_uri": "https://localhost:8080/",
          "height": 286
        },
        "id": "8ic7ktRZj_St",
        "outputId": "8b560d14-b3af-4c59-c289-5674ca54a37c"
      },
      "execution_count": 163,
      "outputs": [
        {
          "output_type": "execute_result",
          "data": {
            "text/html": [
              "<div>\n",
              "<style scoped>\n",
              "    .dataframe tbody tr th:only-of-type {\n",
              "        vertical-align: middle;\n",
              "    }\n",
              "\n",
              "    .dataframe tbody tr th {\n",
              "        vertical-align: top;\n",
              "    }\n",
              "\n",
              "    .dataframe thead th {\n",
              "        text-align: right;\n",
              "    }\n",
              "</style>\n",
              "<table border=\"1\" class=\"dataframe\">\n",
              "  <thead>\n",
              "    <tr style=\"text-align: right;\">\n",
              "      <th></th>\n",
              "      <th>USER_ID</th>\n",
              "      <th>GROUP_ID</th>\n",
              "      <th>TEST_AGE</th>\n",
              "      <th>CERT_GBN</th>\n",
              "      <th>TEST_SEX</th>\n",
              "      <th>HEIGHT</th>\n",
              "      <th>WEIGHT</th>\n",
              "      <th>AGRDE_SE</th>\n",
              "      <th>BMI</th>\n",
              "      <th>추천준비운동</th>\n",
              "      <th>추천본운동</th>\n",
              "      <th>추천마무리운동</th>\n",
              "      <th>추가준비운동</th>\n",
              "      <th>추가본운동</th>\n",
              "      <th>추가마무리운동</th>\n",
              "    </tr>\n",
              "  </thead>\n",
              "  <tbody>\n",
              "    <tr>\n",
              "      <th>0</th>\n",
              "      <td>708729</td>\n",
              "      <td>82</td>\n",
              "      <td>79</td>\n",
              "      <td>상</td>\n",
              "      <td>M</td>\n",
              "      <td>162.5</td>\n",
              "      <td>81.1</td>\n",
              "      <td>70대 이상</td>\n",
              "      <td>2단계비만</td>\n",
              "      <td>깍지 끼고 상체 숙이기</td>\n",
              "      <td>회전근개 스트레칭</td>\n",
              "      <td>폼롤러 이용 유연성운동 루틴 프로그램</td>\n",
              "      <td>넙다리 스트레칭, 목 스트레칭, 깍지 끼고 상체 숙이기, 밴드 잡고 몸통 옆으로 굽히기</td>\n",
              "      <td>계단 올라갔다 내려오기, 밴드 잡고 몸통 옆으로 굽히기, 엉덩이 스트레칭, 앉아서 ...</td>\n",
              "      <td>밴드 잡고 몸통 옆으로 굽히기, 넙다리 스트레칭, 계단 올라갔다 내려오기, 앉아서 ...</td>\n",
              "    </tr>\n",
              "    <tr>\n",
              "      <th>1</th>\n",
              "      <td>710474</td>\n",
              "      <td>82</td>\n",
              "      <td>76</td>\n",
              "      <td>상</td>\n",
              "      <td>M</td>\n",
              "      <td>171.0</td>\n",
              "      <td>90.6</td>\n",
              "      <td>70대 이상</td>\n",
              "      <td>2단계비만</td>\n",
              "      <td>목 스트레칭</td>\n",
              "      <td>엉덩이 스트레칭</td>\n",
              "      <td>의자이용 유연성운동 루틴 프로그램</td>\n",
              "      <td>밴드 잡고 몸통 옆으로 굽히기, 깍지 끼고 상체 숙이기, 넙다리 스트레칭, 목 스트레칭</td>\n",
              "      <td>앉아서 밴드 잡고 몸통 돌리기, 앉아서 다리 굽히기, 자기 체중 이용 평형성 운동 ...</td>\n",
              "      <td>앉아서 밴드 잡고 몸통 돌리기, 계단 올라갔다 내려오기, 회전근개 스트레칭, 엉덩이...</td>\n",
              "    </tr>\n",
              "  </tbody>\n",
              "</table>\n",
              "</div>"
            ],
            "text/plain": [
              "   USER_ID  ...                                            추가마무리운동\n",
              "0   708729  ...  밴드 잡고 몸통 옆으로 굽히기, 넙다리 스트레칭, 계단 올라갔다 내려오기, 앉아서 ...\n",
              "1   710474  ...  앉아서 밴드 잡고 몸통 돌리기, 계단 올라갔다 내려오기, 회전근개 스트레칭, 엉덩이...\n",
              "\n",
              "[2 rows x 15 columns]"
            ]
          },
          "metadata": {},
          "execution_count": 163
        }
      ]
    },
    {
      "cell_type": "code",
      "metadata": {
        "id": "I0qWoUTA0RIW"
      },
      "source": [
        "# 결과 저장\n",
        "result_df.to_csv('../Data/result.csv',encoding='cp949',index=False)\n"
      ],
      "execution_count": 164,
      "outputs": []
    },
    {
      "cell_type": "markdown",
      "source": [
        "# 추천 받아보기"
      ],
      "metadata": {
        "id": "-BNCEeD3w0B4"
      }
    },
    {
      "cell_type": "code",
      "source": [
        "age = int(input('나이 : '))\n",
        "cert = input('운동강도(상/중/하) :')\n",
        "sex = input('성별(F/M) :')\n",
        "height = np.float64(round(float(input('키 :')),1))\n",
        "weight = np.float64(round(float(input('몸무게 :')),1))"
      ],
      "metadata": {
        "id": "PBZZb9Jpt1VW",
        "colab": {
          "base_uri": "https://localhost:8080/"
        },
        "outputId": "a5f25a4c-5a1c-4283-8044-5867569783d5"
      },
      "execution_count": 165,
      "outputs": [
        {
          "name": "stdout",
          "output_type": "stream",
          "text": [
            "나이 : 29\n",
            "운동강도(상/중/하) :하\n",
            "성별(F/M) :M\n",
            "키 :189\n",
            "몸무게 :100\n"
          ]
        }
      ]
    },
    {
      "cell_type": "code",
      "source": [
        "input_list = [22222,age,'하',sex,height,weight]\n",
        "input_df = pd.DataFrame(input_list,index=['USER_ID', 'TEST_AGE','CERT_GBN','TEST_SEX', 'HEIGHT', 'WEIGHT']).T.astype({'USER_ID':'int', 'TEST_AGE':'int', 'HEIGHT':'float', 'WEIGHT':'float'})\n",
        "trans_input = transform(input_df)\n",
        "mode_set(int(trans_input.GROUP_ID))"
      ],
      "metadata": {
        "id": "f4ZG82_nvA9z",
        "colab": {
          "base_uri": "https://localhost:8080/"
        },
        "outputId": "a9590927-143b-41b3-ff66-b8ef6bb26c8f"
      },
      "execution_count": 166,
      "outputs": [
        {
          "output_type": "execute_result",
          "data": {
            "text/plain": [
              "(['걷기', '무릎 높여 제자리 달리기', '전신 루틴 스트레칭'],\n",
              " [['자전거타기'],\n",
              "  ['엎드려 버티기', '걷기', '자전거타기', '달리기'],\n",
              "  ['자전거타기', '달리기', '하지 루틴 스트레칭', '윗몸올리기']])"
            ]
          },
          "metadata": {},
          "execution_count": 166
        }
      ]
    },
    {
      "cell_type": "code",
      "source": [
        ""
      ],
      "metadata": {
        "id": "L5DsuuzXzxoC"
      },
      "execution_count": 166,
      "outputs": []
    }
  ]
}