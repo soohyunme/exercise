{
  "nbformat": 4,
  "nbformat_minor": 0,
  "metadata": {
    "colab": {
      "name": "02.modeling.ipynb",
      "provenance": [],
      "collapsed_sections": [],
      "mount_file_id": "15OdZhMaTEj-kvrY7Jv3EWW-qIke_PSSf",
      "authorship_tag": "ABX9TyMHdaXEnwJ7a2cOz9teyJLs",
      "include_colab_link": true
    },
    "kernelspec": {
      "name": "python3",
      "display_name": "Python 3"
    },
    "language_info": {
      "name": "python"
    }
  },
  "cells": [
    {
      "cell_type": "markdown",
      "metadata": {
        "id": "view-in-github",
        "colab_type": "text"
      },
      "source": [
        "<a href=\"https://colab.research.google.com/github/soohyunme/exercise/blob/main/Code/02_modeling.ipynb\" target=\"_parent\"><img src=\"https://colab.research.google.com/assets/colab-badge.svg\" alt=\"Open In Colab\"/></a>"
      ]
    },
    {
      "cell_type": "code",
      "metadata": {
        "colab": {
          "base_uri": "https://localhost:8080/"
        },
        "id": "6ojDdKSzmYsS",
        "outputId": "dff0e31f-a7a0-4a4f-ddde-9e2bebda4ede"
      },
      "source": [
        "cd /content/drive/MyDrive/4조/01.체육공모전/Code"
      ],
      "execution_count": 1,
      "outputs": [
        {
          "output_type": "stream",
          "name": "stdout",
          "text": [
            "/content/drive/.shortcut-targets-by-id/159Rw9eptrdiP8wihxnfPLcnRcwjx1x8n/4조/01.체육공모전/Code\n"
          ]
        }
      ]
    },
    {
      "cell_type": "markdown",
      "metadata": {
        "id": "fRXj3DAwg6QC"
      },
      "source": [
        "# 모듈 로드"
      ]
    },
    {
      "cell_type": "code",
      "metadata": {
        "id": "uxPtDIWEfF3v"
      },
      "source": [
        "import random\n",
        "import pandas as pd\n",
        "from tqdm import tqdm\n",
        "from tensorflow.keras.preprocessing.text import Tokenizer\n",
        "from mlxtend.preprocessing import TransactionEncoder\n",
        "from mlxtend.frequent_patterns import apriori\n",
        "from mlxtend.frequent_patterns import association_rules\n"
      ],
      "execution_count": 2,
      "outputs": []
    },
    {
      "cell_type": "markdown",
      "metadata": {
        "id": "GDXGYH5Cg7uC"
      },
      "source": [
        "# 데이터 로드"
      ]
    },
    {
      "cell_type": "code",
      "metadata": {
        "id": "db3WHqlugaJq"
      },
      "source": [
        "df_origin = pd.read_csv('../Data/04.processed_data.csv',encoding='cp949')\n",
        "group = pd.read_csv('../Data/user_group.csv',encoding='cp949')\n",
        "ex_db = pd.read_csv('../Data/exercise_DB.csv',encoding='cp949')\n",
        "ex_db['NEW_EX_NM'] = ex_db['EX_NM'].apply(lambda x : x.replace(' ',''))\n",
        "ex_dict = dict(zip(list(ex_db['NEW_EX_NM']),list(ex_db['EX_NM'])))\n"
      ],
      "execution_count": 3,
      "outputs": []
    },
    {
      "cell_type": "code",
      "metadata": {
        "id": "V0ZKHJc6g1T8"
      },
      "source": [
        "user_db = df_origin[:-20]\n",
        "sample_user = df_origin[-20:].iloc[:,:-3]"
      ],
      "execution_count": 4,
      "outputs": []
    },
    {
      "cell_type": "code",
      "metadata": {
        "id": "6V4OE2DP2dip"
      },
      "source": [
        "sample_user.to_csv('../Data/input.csv',encoding='cp949',index=False)\n"
      ],
      "execution_count": 5,
      "outputs": []
    },
    {
      "cell_type": "markdown",
      "metadata": {
        "id": "B0sUtDSrhNxL"
      },
      "source": [
        "# 함수 정의"
      ]
    },
    {
      "cell_type": "markdown",
      "metadata": {
        "id": "0zalBxUL51VP"
      },
      "source": [
        "## 데이터프레임 변환 함수"
      ]
    },
    {
      "cell_type": "code",
      "metadata": {
        "id": "-kSjTlPdhKmZ"
      },
      "source": [
        "# 나이를 연령대로 변환\n",
        "def age_group(df):\n",
        "  df['AGRDE_SE'] = df['TEST_AGE'].apply(lambda x : '10대' if x<20 else (\\\n",
        "                                                    '20대' if x<30 else (\\\n",
        "                                                      '30대' if x<40 else (\\\n",
        "                                                    '40대' if x<50 else (\\\n",
        "                                                    '50대' if x<60 else (\\\n",
        "                                                      '60대' if x<70 else (\\\n",
        "                                                    '70대 이상' )))))))\n",
        "  return df"
      ],
      "execution_count": 6,
      "outputs": []
    },
    {
      "cell_type": "code",
      "metadata": {
        "id": "9ABta0OMqGTV"
      },
      "source": [
        "# 키와 몸무게를 통해 BMI 계산, BMI를 통해 비만 단계 변환\n",
        "def bmi_group(df):\n",
        "  bmi = pd.Series(round(df['WEIGHT'] / (df['HEIGHT']/100)**2,1),name='BMI')\n",
        "  bmi_g = bmi.apply(lambda x : '3단계비만' if x>=35 else (\\\n",
        "                                                    '2단계비만' if x>=30 else (\\\n",
        "                                                      '1단계비만' if x>=25 else (\\\n",
        "                                                    '비만전단계' if x>=23 else (\\\n",
        "                                                    '정상' if x>=18.5 else '저체중')))))\n",
        "  result = pd.concat([df,bmi_g],axis=1)\n",
        "  return result"
      ],
      "execution_count": 7,
      "outputs": []
    },
    {
      "cell_type": "code",
      "metadata": {
        "id": "RSBDBDWK7XO_"
      },
      "source": [
        "# Add user group column\n",
        "def add_group(df):\n",
        "  result = df.merge(group,how='inner')\n",
        "  return result"
      ],
      "execution_count": 8,
      "outputs": []
    },
    {
      "cell_type": "code",
      "metadata": {
        "id": "Azfkz8bSpWM8"
      },
      "source": [
        "def transform(df):\n",
        "  result = age_group(df.copy())\n",
        "  result = bmi_group(result)\n",
        "  result = add_group(result)\n",
        "  if '준비운동' in df.columns:\n",
        "    result = result[['USER_ID', 'GROUP_ID', '준비운동', '본운동', '마무리운동']]\n",
        "  else:\n",
        "    result = result[['USER_ID', 'GROUP_ID']]\n",
        "  return result"
      ],
      "execution_count": 9,
      "outputs": []
    },
    {
      "cell_type": "markdown",
      "metadata": {
        "id": "-oc54RbfAjQu"
      },
      "source": [
        "# 데이터셋 변환  \n",
        "연령대, 운동강도, 성별, BMI 등급을 통한 그룹 변환"
      ]
    },
    {
      "cell_type": "code",
      "metadata": {
        "id": "S_F5zRRmrd8h"
      },
      "source": [
        "# User DB & sample user data transform\n",
        "trans_db = transform(user_db)\n",
        "trans_sample = transform(sample_user)\n",
        "\n",
        "# exercise set df\n",
        "set_df = pd.DataFrame(trans_db.drop('USER_ID',axis=1).value_counts()).reset_index().rename(columns={0:'COUNT'})"
      ],
      "execution_count": 10,
      "outputs": []
    },
    {
      "cell_type": "markdown",
      "metadata": {
        "id": "G3xO6_wJ5ycX"
      },
      "source": [
        "## 최빈 운동 세트 선정 함수"
      ]
    },
    {
      "cell_type": "code",
      "metadata": {
        "id": "Q_rxmq5AXgH_"
      },
      "source": [
        "# input : exercise list / output : sparse matrix\n",
        "def sparse_matrix(ex_list):\n",
        "  te = TransactionEncoder()\n",
        "  te_ary = te.fit(ex_list).transform(ex_list)\n",
        "  sparse_matrix = pd.DataFrame(te_ary, columns=te.columns_)\n",
        "  return sparse_matrix"
      ],
      "execution_count": 11,
      "outputs": []
    },
    {
      "cell_type": "code",
      "metadata": {
        "id": "cKRytw-eARyh"
      },
      "source": [
        "def ranking(pre_df, main_df, finish_df, ex_list):\n",
        "  df_list = [pre_df, main_df, finish_df] # 단계별 연관분석 결과값\n",
        "  result_list = [] # 결과값을 리스트에 담아 하나씩 출력\n",
        "  result_df = pd.DataFrame(columns=pre_df.columns) # 빈 DataFrame 생성\n",
        "  for i in range(len(df_list)):\n",
        "    tmp_df = df_list[i] # 운동 단계별 for문 pre, main, finish\n",
        "    for each_ex in ex_list[i].split(','): # 각 단계별 운동들을 리스트로 분할\n",
        "      each_ex = each_ex # 운동이름에 공백 제거\n",
        "      each_result = tmp_df[tmp_df['antecedents']==frozenset({each_ex})].sort_values('support') # 해당하는 운동을 연관분석을 통해 지지도 순으로 정렬\n",
        "      each_result['consequents'] = each_result['consequents'].apply(lambda x : list(x)[0]) # frozenset to string\n",
        "      length = 3 if len(each_result) else len(each_result) # set length\n",
        "      result_df = pd.concat([result_df,each_result.iloc[:length]]) # 연관성이 높은 운동이 3개 이상일 경우 3개만 저장\n",
        "    result_list.append(result_df['consequents']) # 결과값 리스트에 추가\n",
        "    result_df = None # 초기화\n",
        "  return list(result_list[0]), list(result_list[1]), list(result_list[2]) # 준비, 본, 마무리 운동 연관성 높은 운동 리턴 / type : Series"
      ],
      "execution_count": 12,
      "outputs": []
    },
    {
      "cell_type": "code",
      "metadata": {
        "id": "QmZKz4rCkvxc"
      },
      "source": [
        "# select top 1 exercise set from user info\n",
        "# input : group_id / ouput : top 1 exercise set(pre, main, finish / Series)\n",
        "def mode_set(g_id, min_support = 0.01, min_threshold=0.2):\n",
        "  user_set = set_df[set_df['GROUP_ID']==g_id] # 유저가 해당하는 그룹의 처방 운동 세트 빈도\n",
        "  max_ex_set = list(user_set[user_set['COUNT'] == user_set['COUNT'].max()].iloc[0,1:4]) # 가장 많이 처방된 운동 세트\n",
        "\n",
        "  # 해당 그룹의 단계별 운동 리스트 생성\n",
        "  pre_ex_all = list(user_set['준비운동'].apply(lambda x : x.split(','))) \n",
        "  main_ex_all = list(user_set['본운동'].apply(lambda x : x.split(',')))\n",
        "  finish_ex_all = list(user_set['마무리운동'].apply(lambda x : x.split(',')))\n",
        "\n",
        "  # 단계별 sparse matrix 생성\n",
        "  pre_sparse = sparse_matrix(pre_ex_all)\n",
        "  main_sparse = sparse_matrix(main_ex_all)\n",
        "  finish_sparse = sparse_matrix(finish_ex_all)\n",
        "\n",
        "  # 지지도가 0.01 이상인 운동 선택\n",
        "  pre_itemsets = apriori(pre_sparse, min_support = min_support, use_colnames=True,max_len=2)\n",
        "  main_itemsets = apriori(main_sparse, min_support = min_support, use_colnames=True,max_len=2)\n",
        "  finish_itemsets = apriori(finish_sparse, min_support = min_support, use_colnames=True,max_len=2)\n",
        "\n",
        "  # 그 중에서 신뢰도가 0.5 이상인 운동 선택\n",
        "  pre_select = association_rules(pre_itemsets, metric=\"confidence\", min_threshold=min_threshold)\n",
        "  main_select = association_rules(main_itemsets, metric=\"confidence\", min_threshold=min_threshold)\n",
        "  finish_select = association_rules(finish_itemsets, metric=\"confidence\", min_threshold=min_threshold)\n",
        "  \n",
        "  # consequents의 길이가 1인 것만 선택 -> 1개의 운동만 추천하도록\n",
        "  pre_select = pre_select[pre_select['consequents'].apply(lambda x : len(x) == 1)]\n",
        "  main_select = main_select[main_select['consequents'].apply(lambda x : len(x) == 1)] \n",
        "  finish_select = finish_select[finish_select['consequents'].apply(lambda x : len(x) == 1)]\n",
        "  \n",
        "  # ranking \n",
        "  pre_rank, main_rank, finish_rank = ranking(pre_select, main_select, finish_select, max_ex_set)\n",
        "\n",
        "  # select exercise \n",
        "  a, b = select_exercise(pre_rank, main_rank, finish_rank, max_ex_set)\n",
        "\n",
        "  return a, b"
      ],
      "execution_count": 13,
      "outputs": []
    },
    {
      "cell_type": "code",
      "metadata": {
        "id": "ImTmnImn0aXA"
      },
      "source": [
        "# select main routine\n",
        "def select_exercise(pre_list, main_list, finish_list, max):\n",
        "  main_reco_list = [] # 메인 추천 리스트\n",
        "  sub_reco_list = [] # 추가 추천 리스트\n",
        "  tmp_list = []\n",
        "  asso_list = [pre_list,main_list,finish_list]\n",
        "  tmp_set = set()\n",
        "  random_num = random.randint(1, 100) # 난수 생성\n",
        "  # Main recommend set\n",
        "  for i, str in enumerate(max):\n",
        "    ex_list = str.split(',') # 운동 세트에서 각 단계별 운동들\n",
        "    reco_ex = ex_list[random_num %len(ex_list)] # 난수를 통해 임의의 1개 운동 선택\n",
        "    main_reco_list.append(reco_ex) # 메인 추천 리스트에 선택된 운동 삽입\n",
        "\n",
        "    tmp_set.update(ex_list) # 임시 리스트에 max 운동 리스트 삽입\n",
        "    tmp_set.remove(reco_ex) # 선택된 운동 삭제 -> 단계별 최빈 세트 운동에서 메인 추천 운동 제거\n",
        "    tmp_set.update(asso_list[i]) # 연관 분석을 통해 추천된 운동들 추가\n",
        "    tmp_list.append(list(tmp_set)) # 해당 set을 리스트로 변환하여 tmp_list에 추가 -> [ [준,], [본,], [마,] ]\n",
        "  for i, reco in enumerate(tmp_list):\n",
        "    if (len(reco)) < 4:\n",
        "      random_list = reco\n",
        "    else:\n",
        "      random_list = random.sample(reco, 4)\n",
        "    sub_reco_list.append(random_list)\n",
        "  return list(main_reco_list), list(sub_reco_list)"
      ],
      "execution_count": 14,
      "outputs": []
    },
    {
      "cell_type": "markdown",
      "metadata": {
        "id": "slRVAT8HKRCU"
      },
      "source": [
        "# 맞춤 운동 추천"
      ]
    },
    {
      "cell_type": "code",
      "metadata": {
        "id": "acdMemuc1kzQ"
      },
      "source": [
        "main_reco = []\n",
        "sub_reco = []\n",
        "u_id_list = []\n",
        "result_df = sample_user.copy()"
      ],
      "execution_count": 15,
      "outputs": []
    },
    {
      "cell_type": "code",
      "metadata": {
        "id": "QrmtLuDBnE-u"
      },
      "source": [
        "for u_id, g_id in trans_sample[['USER_ID','GROUP_ID']].values:\n",
        "  best, sub = mode_set(g_id) # 추천 세트 및 추가 추천 세트\n",
        "  main_reco.append(list(best)) \n",
        "  sub_reco.append(sub)\n",
        "  u_id_list.append(u_id)\n"
      ],
      "execution_count": 16,
      "outputs": []
    },
    {
      "cell_type": "code",
      "metadata": {
        "id": "-12IGAQnucX8"
      },
      "source": [
        "reco_df = pd.DataFrame(main_reco,index=u_id_list,columns=['추천준비운동','추천본운동','추천마무리운동'])\n",
        "sub_df = pd.DataFrame(sub_reco,index=u_id_list,columns=['추가준비운동','추가본운동','추가마무리운동'])\n",
        "merge_df = pd.merge(reco_df,sub_df,left_index=True,right_index=True).reset_index().rename(columns={'index':'USER_ID'})\n",
        "result_df = pd.merge(sample_user,merge_df)\n"
      ],
      "execution_count": 17,
      "outputs": []
    },
    {
      "cell_type": "code",
      "metadata": {
        "id": "I0qWoUTA0RIW"
      },
      "source": [
        "# 결과 저장\n",
        "result_df.to_csv('../Data/result.csv',encoding='cp949',index=False)\n"
      ],
      "execution_count": 18,
      "outputs": []
    }
  ]
}