{
  "nbformat": 4,
  "nbformat_minor": 0,
  "metadata": {
    "colab": {
      "name": "02.modeling.ipynb",
      "provenance": [],
      "collapsed_sections": [],
      "mount_file_id": "15OdZhMaTEj-kvrY7Jv3EWW-qIke_PSSf",
      "authorship_tag": "ABX9TyMmGTr7I9QnS9D245qktzNH",
      "include_colab_link": true
    },
    "kernelspec": {
      "name": "python3",
      "display_name": "Python 3"
    },
    "language_info": {
      "name": "python"
    }
  },
  "cells": [
    {
      "cell_type": "markdown",
      "metadata": {
        "id": "view-in-github",
        "colab_type": "text"
      },
      "source": [
        "<a href=\"https://colab.research.google.com/github/soohyunme/exercise/blob/main/Code/02_modeling.ipynb\" target=\"_parent\"><img src=\"https://colab.research.google.com/assets/colab-badge.svg\" alt=\"Open In Colab\"/></a>"
      ]
    },
    {
      "cell_type": "code",
      "metadata": {
        "colab": {
          "base_uri": "https://localhost:8080/"
        },
        "id": "6ojDdKSzmYsS",
        "outputId": "9a999a34-1e28-430b-9c0b-bd0d73a3cac1"
      },
      "source": [
        "cd /content/drive/MyDrive/4조/01.체육공모전/Code"
      ],
      "execution_count": 1,
      "outputs": [
        {
          "output_type": "stream",
          "name": "stdout",
          "text": [
            "/content/drive/.shortcut-targets-by-id/159Rw9eptrdiP8wihxnfPLcnRcwjx1x8n/4조/01.체육공모전/Code\n"
          ]
        }
      ]
    },
    {
      "cell_type": "markdown",
      "metadata": {
        "id": "fRXj3DAwg6QC"
      },
      "source": [
        "# 모듈 로드"
      ]
    },
    {
      "cell_type": "code",
      "metadata": {
        "id": "uxPtDIWEfF3v"
      },
      "source": [
        "import pandas as pd\n",
        "from tqdm import tqdm\n",
        "from tensorflow.keras.preprocessing.text import Tokenizer\n"
      ],
      "execution_count": 2,
      "outputs": []
    },
    {
      "cell_type": "markdown",
      "metadata": {
        "id": "GDXGYH5Cg7uC"
      },
      "source": [
        "# 데이터 로드"
      ]
    },
    {
      "cell_type": "code",
      "metadata": {
        "id": "db3WHqlugaJq"
      },
      "source": [
        "df_origin = pd.read_csv('../Data/04.processed_data.csv',encoding='cp949')\n",
        "group = pd.read_csv('../Data/user_group.csv',encoding='cp949')\n",
        "ex_db = pd.read_csv('../Data/exercise_DB.csv',encoding='cp949')"
      ],
      "execution_count": 3,
      "outputs": []
    },
    {
      "cell_type": "code",
      "metadata": {
        "id": "V0ZKHJc6g1T8"
      },
      "source": [
        "user_db = df_origin[:-20]\n",
        "sample_user = df_origin[-20:].iloc[:,:-3]"
      ],
      "execution_count": 4,
      "outputs": []
    },
    {
      "cell_type": "markdown",
      "metadata": {
        "id": "B0sUtDSrhNxL"
      },
      "source": [
        "# 함수 정의"
      ]
    },
    {
      "cell_type": "markdown",
      "metadata": {
        "id": "0zalBxUL51VP"
      },
      "source": [
        "## 데이터프레임 변환 함수"
      ]
    },
    {
      "cell_type": "code",
      "metadata": {
        "id": "-kSjTlPdhKmZ"
      },
      "source": [
        "# 나이를 연령대로 변환\n",
        "def age_group(df):\n",
        "  df['AGRDE_SE'] = df['TEST_AGE'].apply(lambda x : '10대' if x<20 else (\\\n",
        "                                                    '20대' if x<30 else (\\\n",
        "                                                      '30대' if x<40 else (\\\n",
        "                                                    '40대' if x<50 else (\\\n",
        "                                                    '50대' if x<60 else (\\\n",
        "                                                      '60대' if x<70 else (\\\n",
        "                                                    '70대 이상' )))))))\n",
        "  return df"
      ],
      "execution_count": 5,
      "outputs": []
    },
    {
      "cell_type": "code",
      "metadata": {
        "id": "9ABta0OMqGTV"
      },
      "source": [
        "# 키와 몸무게를 통해 BMI 계산, BMI를 통해 비만 단계 변환\n",
        "def bmi_group(df):\n",
        "  bmi = pd.Series(round(df['WEIGHT'] / (df['HEIGHT']/100)**2,1),name='BMI')\n",
        "  bmi_g = bmi.apply(lambda x : '3단계비만' if x>=35 else (\\\n",
        "                                                    '2단계비만' if x>=30 else (\\\n",
        "                                                      '1단계비만' if x>=25 else (\\\n",
        "                                                    '비만전단계' if x>=23 else (\\\n",
        "                                                    '정상' if x>=18.5 else '저체중')))))\n",
        "  result = pd.concat([df,bmi_g],axis=1)\n",
        "  return result"
      ],
      "execution_count": 6,
      "outputs": []
    },
    {
      "cell_type": "code",
      "metadata": {
        "id": "RSBDBDWK7XO_"
      },
      "source": [
        "# Add user group column\n",
        "def add_group(df):\n",
        "  result = df.merge(group,how='inner')\n",
        "  return result"
      ],
      "execution_count": 7,
      "outputs": []
    },
    {
      "cell_type": "code",
      "metadata": {
        "id": "Azfkz8bSpWM8"
      },
      "source": [
        "def transform(df):\n",
        "  result = age_group(df.copy())\n",
        "  result = bmi_group(result)\n",
        "  result = add_group(result)\n",
        "  if '준비운동' in df.columns:\n",
        "    result = result[['USER_ID', 'GROUP_ID', '준비운동', '본운동', '마무리운동']]\n",
        "  else:\n",
        "    result = result[['USER_ID', 'GROUP_ID']]\n",
        "  return result"
      ],
      "execution_count": 8,
      "outputs": []
    },
    {
      "cell_type": "markdown",
      "metadata": {
        "id": "G3xO6_wJ5ycX"
      },
      "source": [
        "## 최빈 운동 세트 선정 함수"
      ]
    },
    {
      "cell_type": "code",
      "metadata": {
        "id": "QmZKz4rCkvxc"
      },
      "source": [
        "# select top 1 exercise set from user info\n",
        "# input : group_id / ouput : top 1 exercise set(pre, main, finish / Series)\n",
        "def mode_set(group_id):\n",
        "  user_set = set_df[set_df['GROUP_ID']==g_id]\n",
        "  result = user_set[user_set['COUNT'] == user_set['COUNT'].max()].iloc[0,1:4]\n",
        "  return result\n"
      ],
      "execution_count": 9,
      "outputs": []
    },
    {
      "cell_type": "markdown",
      "metadata": {
        "id": "HlKskdq65_pO"
      },
      "source": [
        "## 코사인 유사도 함수"
      ]
    },
    {
      "cell_type": "code",
      "metadata": {
        "id": "_1-Fn_hDrJfw"
      },
      "source": [
        "from sklearn.feature_extraction.text import CountVectorizer\n",
        "vect = CountVectorizer() # Counter Vectorizer 객체 생성 \n",
        "# 운동을 Counter Vectorizer 형태로 변형 \n",
        "#countvect = vect.fit_transform(None)\n",
        "#countvect \n",
        "#vect.vocabulary_"
      ],
      "execution_count": 10,
      "outputs": []
    },
    {
      "cell_type": "code",
      "metadata": {
        "id": "daxZNr9OrKfQ"
      },
      "source": [
        "# 운동을 Counter Vectorizer 형태로 변형 \n",
        "#countvect = vect.fit_transform(aa)\n",
        "#countvect \n",
        "#vect.vocabulary_"
      ],
      "execution_count": 11,
      "outputs": []
    },
    {
      "cell_type": "markdown",
      "metadata": {
        "id": "-oc54RbfAjQu"
      },
      "source": [
        "# 데이터셋 변환  \n",
        "연령대, 운동강도, 성별, BMI 등급을 통한 그룹 변환"
      ]
    },
    {
      "cell_type": "code",
      "metadata": {
        "id": "S_F5zRRmrd8h"
      },
      "source": [
        "# User DB & sample user data transform\n",
        "trans_db = transform(user_db)\n",
        "trans_sample = transform(sample_user)\n",
        "\n",
        "# exercise set df\n",
        "set_df = pd.DataFrame(trans_db.drop('USER_ID',axis=1).value_counts()).reset_index().rename(columns={0:'COUNT'})"
      ],
      "execution_count": 12,
      "outputs": []
    },
    {
      "cell_type": "markdown",
      "metadata": {
        "id": "slRVAT8HKRCU"
      },
      "source": [
        "# 맞춤 운동 추천"
      ]
    },
    {
      "cell_type": "code",
      "metadata": {
        "id": "QrmtLuDBnE-u",
        "colab": {
          "base_uri": "https://localhost:8080/"
        },
        "outputId": "affcc866-02e3-44ed-bc58-07401796d3ee"
      },
      "source": [
        "for u_id, g_id in trans_sample.values:\n",
        "  print(list(mode_set(g_id))) # 준비, 본, 마무리"
      ],
      "execution_count": 13,
      "outputs": [
        {
          "output_type": "stream",
          "name": "stdout",
          "text": [
            "['걷기', '달리기,무릎 높여 제자리 달리기', '전신 루틴 스트레칭']\n",
            "['걷기', '달리기,무릎 높여 제자리 달리기', '전신 루틴 스트레칭']\n",
            "['걷기', '달리기,무릎 높여 제자리 달리기', '전신 루틴 스트레칭']\n",
            "['걷기', '달리기,무릎 높여 제자리 달리기', '전신 루틴 스트레칭']\n",
            "['걷기', '달리기,무릎 높여 제자리 달리기', '전신 루틴 스트레칭']\n",
            "['달리기,동적 스트레칭 루틴프로그램,팔 벌려 뛰기', '맨몸운동  루틴프로그램,버피운동,메디신 볼 잡고 팔굽혀펴기,종아리 사이 감아 돌리기,볼 잡고 점프하기,순간반응 콘 찍기,뒤꿈치 높이들어 뛰기,사다리 이용 루틴 운동,다리 뻗어 점프하기', '걷기,정적 스트레칭  루틴프로그램']\n",
            "['달리기,동적 스트레칭 루틴프로그램,팔 벌려 뛰기', '맨몸운동  루틴프로그램,버피운동,메디신 볼 잡고 팔굽혀펴기,종아리 사이 감아 돌리기,볼 잡고 점프하기,순간반응 콘 찍기,뒤꿈치 높이들어 뛰기,사다리 이용 루틴 운동,다리 뻗어 점프하기', '걷기,정적 스트레칭  루틴프로그램']\n",
            "['걷기', '달리기,무릎 높여 제자리 달리기', '전신 루틴 스트레칭']\n",
            "['팔꿈치 원 그리기,정적 스트레칭  루틴프로그램,깍지끼고 목 들어올리기,팔꿈치 머리 뒤로 젖히기,양발 벌려 무릎 밀어내기,온 몸 뻗어주기', '맨몸운동  루틴프로그램,저항밴드 운동  루틴프로그램,전완대고 버티기,앉았다 일어서기,발 바꿔 뛰기,버피운동,걷기,달리기,자전거타기,줄넘기,수영,사이드 지그재그 뛰기,순간반응 콘 찍기,뒤꿈치 높이들어 뛰기,무릎 높이 들어 뛰기,팔 벌려 뛰기,앉았다 일어나며 점프하기,요가 및 필라테스  루틴프로그램,측면 팔대고 버티기,옆으로 팔 벌리며 점프하기,팔 돌리며 점프하기,다리 들어올리기,다리자세', '정적 스트레칭  루틴프로그램,아기자세,온 몸 뻗어주기,휴식자세']\n",
            "['달리기,동적 스트레칭 루틴프로그램,팔 벌려 뛰기', '맨몸운동  루틴프로그램,버피운동,메디신 볼 잡고 팔굽혀펴기,종아리 사이 감아 돌리기,볼 잡고 점프하기,순간반응 콘 찍기,뒤꿈치 높이들어 뛰기,사다리 이용 루틴 운동,다리 뻗어 점프하기', '걷기,정적 스트레칭  루틴프로그램']\n",
            "['걷기', '달리기,무릎 높여 제자리 달리기', '전신 루틴 스트레칭']\n",
            "['걷기', '달리기,무릎 높여 제자리 달리기', '전신 루틴 스트레칭']\n",
            "['걷기', '달리기,무릎 높여 제자리 달리기', '전신 루틴 스트레칭']\n",
            "['걷기,유산소 운동 전 동적 루틴 스트레칭', '맨몸운동  루틴프로그램,팔벌려뛰기,사다리 옆으로 발 옮기기,옆으로 펀치하기,스텝퍼 오르내리기,무릎 높여 제자리 달리기', '전신 루틴 스트레칭']\n",
            "['유산소 운동 전 동적 루틴 스트레칭', '윗몸올리기,누워서 엉덩이 들어올리기,엎드려 버티기,서서 상체 일으키기,앉아서 밀기,앉아서 당겨 내리기,앉아서 다리 밀기,앉아서 다리 펴기,자전거타기,걷기', '전신 루틴 스트레칭']\n",
            "['유산소 운동 전 동적 루틴 스트레칭', '윗몸올리기,누워서 엉덩이 들어올리기,엎드려 버티기,서서 상체 일으키기,앉아서 밀기,앉아서 당겨 내리기,앉아서 다리 밀기,앉아서 다리 펴기,자전거타기,걷기', '전신 루틴 스트레칭']\n",
            "['걷기', '달리기,무릎 높여 제자리 달리기', '전신 루틴 스트레칭']\n",
            "['유산소 운동 전 동적 루틴 스트레칭', '윗몸올리기,누워서 엉덩이 들어올리기,엎드려 버티기,서서 상체 일으키기,앉아서 밀기,앉아서 당겨 내리기,앉아서 다리 밀기,앉아서 다리 펴기,자전거타기,걷기', '전신 루틴 스트레칭']\n",
            "['유산소 운동 전 동적 루틴 스트레칭', '윗몸올리기,누워서 엉덩이 들어올리기,엎드려 버티기,서서 상체 일으키기,앉아서 밀기,앉아서 당겨 내리기,앉아서 다리 밀기,앉아서 다리 펴기,자전거타기,걷기', '전신 루틴 스트레칭']\n",
            "['걷기', '엉덩이 스트레칭', '자전거타기']\n"
          ]
        }
      ]
    },
    {
      "cell_type": "code",
      "metadata": {
        "colab": {
          "base_uri": "https://localhost:8080/"
        },
        "id": "N_sZntjQPSHs",
        "outputId": "befdcc18-501e-48d0-976f-0778a9a1ed69"
      },
      "source": [
        "mode_set(g_id)"
      ],
      "execution_count": 14,
      "outputs": [
        {
          "output_type": "execute_result",
          "data": {
            "text/plain": [
              "준비운동           걷기\n",
              "본운동      엉덩이 스트레칭\n",
              "마무리운동       자전거타기\n",
              "Name: 55, dtype: object"
            ]
          },
          "metadata": {},
          "execution_count": 14
        }
      ]
    },
    {
      "cell_type": "markdown",
      "metadata": {
        "id": "_qJenKqvPOTo"
      },
      "source": [
        "토크나이저 하는중"
      ]
    },
    {
      "cell_type": "markdown",
      "metadata": {
        "id": "yck1O9AqPX6_"
      },
      "source": [
        "g_id 받아서 그거로 토크나이저 진행  \n",
        "코사인 유사도 구해서 추천 운동 리턴"
      ]
    },
    {
      "cell_type": "code",
      "metadata": {
        "id": "K1B27mZq0c9O"
      },
      "source": [
        "length = 10\n",
        "ex_list = list(user_db['준비운동'].apply(lambda x : x.replace(' ','')).apply(lambda x : x.split(',')))[:length]\n"
      ],
      "execution_count": 37,
      "outputs": []
    },
    {
      "cell_type": "code",
      "metadata": {
        "id": "oBG8IHclL9Br"
      },
      "source": [
        "# 운동 토크나이징\n",
        "tokenizer = Tokenizer()\n",
        "preprocessed_sentences = ex_list\n",
        "tokenizer.fit_on_texts(preprocessed_sentences)\n",
        "ex_count = tokenizer.word_counts\n",
        "ex_encoding = tokenizer.texts_to_sequences(preprocessed_sentences)\n"
      ],
      "execution_count": 38,
      "outputs": []
    },
    {
      "cell_type": "code",
      "metadata": {
        "colab": {
          "base_uri": "https://localhost:8080/"
        },
        "id": "-7uxgZ5gw8_m",
        "outputId": "1ace63df-ffcf-4681-adf9-8029b9534663"
      },
      "source": [
        "# 최대 빈도 운동\n",
        "result_ex_nm = ''\n",
        "max = -1\n",
        "for ex_name in ex_count:\n",
        "  if ex_count[ex_name] >= max :\n",
        "    max = ex_count[ex_name]\n",
        "    result_ex_nm = ex_name\n",
        "print(result_ex_nm)"
      ],
      "execution_count": 39,
      "outputs": [
        {
          "output_type": "stream",
          "name": "stdout",
          "text": [
            "걷기\n"
          ]
        }
      ]
    },
    {
      "cell_type": "code",
      "metadata": {
        "colab": {
          "base_uri": "https://localhost:8080/"
        },
        "id": "zkqy0nqG1Fo2",
        "outputId": "578e6a64-0737-460f-d6c8-ab8b2f4b4cdc"
      },
      "source": [
        "user_db['준비운동'].value_counts()"
      ],
      "execution_count": 40,
      "outputs": [
        {
          "output_type": "execute_result",
          "data": {
            "text/plain": [
              "걷기                                                           19900\n",
              "유산소 운동 전 동적 루틴 스트레칭                                          15671\n",
              "하지 루틴 스트레칭,상지 루틴 스트레칭                                        13151\n",
              "전신 루틴 스트레칭                                                   12910\n",
              "동적 스트레칭 루틴프로그램                                                4868\n",
              "                                                             ...  \n",
              "하지 루틴 스트레칭,상지 루틴 스트레칭,유산소 운동 전 동적 루틴 스트레칭,자가근막이완술 루틴 스트레칭        1\n",
              "유산소 운동 전 동적 루틴 스트레칭,팔벌려뛰기,버피운동,앉았다 일어서기                          1\n",
              "전신 루틴 스트레칭,유산소 운동 전 동적 루틴 스트레칭,상지 루틴 스트레칭,하지 루틴 스트레칭             1\n",
              "하지 루틴 스트레칭,상지 루틴 스트레칭,전신 루틴 스트레칭,자가근막이완술 루틴 스트레칭                 1\n",
              "누워서 전신 뻗기,아래 팔 스트레칭,허리 스트레칭,배 스트레칭,회전근개 스트레칭                     1\n",
              "Name: 준비운동, Length: 1705, dtype: int64"
            ]
          },
          "metadata": {},
          "execution_count": 40
        }
      ]
    },
    {
      "cell_type": "code",
      "metadata": {
        "colab": {
          "base_uri": "https://localhost:8080/"
        },
        "id": "jTgfnYt5QnSo",
        "outputId": "c48a1d5f-5a4f-408e-ac0b-8e70b0af211f"
      },
      "source": [
        "print(tokenizer.word_index) # 인덱스\n",
        "print(tokenizer.word_counts) # 카운터\n",
        "print(ex_encoding)"
      ],
      "execution_count": 41,
      "outputs": [
        {
          "output_type": "stream",
          "name": "stdout",
          "text": [
            "{'걷기': 1, '유산소운동전동적루틴스트레칭': 2, '자가근막이완술루틴스트레칭': 3, '전신루틴스트레칭': 4, '아래팔스트레칭': 5, '엉덩이스트레칭': 6, '넙다리스트레칭': 7, '허리스트레칭': 8, '배스트레칭': 9, '옆구리스트레칭': 10, '어깨스트레칭': 11}\n",
            "OrderedDict([('자가근막이완술루틴스트레칭', 1), ('걷기', 5), ('전신루틴스트레칭', 1), ('유산소운동전동적루틴스트레칭', 3), ('아래팔스트레칭', 1), ('엉덩이스트레칭', 1), ('넙다리스트레칭', 1), ('허리스트레칭', 1), ('배스트레칭', 1), ('옆구리스트레칭', 1), ('어깨스트레칭', 1)])\n",
            "[[3], [1], [4, 2], [1], [1], [2], [1], [1], [2], [5, 6, 7, 8, 9, 10, 11]]\n"
          ]
        }
      ]
    },
    {
      "cell_type": "code",
      "metadata": {
        "colab": {
          "base_uri": "https://localhost:8080/"
        },
        "id": "8You4hQmqS56",
        "outputId": "2709c414-9788-4a4c-c074-498c4f66ff74"
      },
      "source": [
        "w_list = []\n",
        "for row  in ex_encoding:\n",
        "  w_list.append(', '.join(str(_) for _ in row))\n",
        "w_list\n"
      ],
      "execution_count": 42,
      "outputs": [
        {
          "output_type": "execute_result",
          "data": {
            "text/plain": [
              "['3', '1', '4, 2', '1', '1', '2', '1', '1', '2', '5, 6, 7, 8, 9, 10, 11']"
            ]
          },
          "metadata": {},
          "execution_count": 42
        }
      ]
    },
    {
      "cell_type": "code",
      "metadata": {
        "colab": {
          "base_uri": "https://localhost:8080/"
        },
        "id": "v_btTatarKRk",
        "outputId": "7255c753-db37-4acb-b1fd-130dc02b4da5"
      },
      "source": [
        "# 문장을 Counter Vectorizer 형태로 변형 \n",
        "countvect = vect.fit_transform(w_list[:length])\n",
        "countvect # 4x9 : 4개의 문서에 9개의 단어 "
      ],
      "execution_count": 43,
      "outputs": [
        {
          "output_type": "execute_result",
          "data": {
            "text/plain": [
              "<10x2 sparse matrix of type '<class 'numpy.int64'>'\n",
              "\twith 2 stored elements in Compressed Sparse Row format>"
            ]
          },
          "metadata": {},
          "execution_count": 43
        }
      ]
    },
    {
      "cell_type": "code",
      "metadata": {
        "colab": {
          "base_uri": "https://localhost:8080/"
        },
        "id": "F-p4Aed2hw0G",
        "outputId": "29db06f3-6286-4455-a1f1-993c7f9fd1fc"
      },
      "source": [
        "# toarray()를 통해서 문장이 Vector 형태의 값을 얻을 수 있음 \n",
        "# 하지만, 각 인덱스와 컬럼이 무엇을 의미하는지에 대해서는 알 수가 없음 \n",
        "countvect.toarray().shape"
      ],
      "execution_count": 44,
      "outputs": [
        {
          "output_type": "execute_result",
          "data": {
            "text/plain": [
              "(10, 2)"
            ]
          },
          "metadata": {},
          "execution_count": 44
        }
      ]
    },
    {
      "cell_type": "code",
      "metadata": {
        "colab": {
          "base_uri": "https://localhost:8080/"
        },
        "id": "_-nTpuISyxi9",
        "outputId": "460da270-44de-4e77-e010-829a3a3f32fe"
      },
      "source": [
        "ex_list"
      ],
      "execution_count": 45,
      "outputs": [
        {
          "output_type": "execute_result",
          "data": {
            "text/plain": [
              "[['자가근막이완술루틴스트레칭'],\n",
              " ['걷기'],\n",
              " ['전신루틴스트레칭', '유산소운동전동적루틴스트레칭'],\n",
              " ['걷기'],\n",
              " ['걷기'],\n",
              " ['유산소운동전동적루틴스트레칭'],\n",
              " ['걷기'],\n",
              " ['걷기'],\n",
              " ['유산소운동전동적루틴스트레칭'],\n",
              " ['아래팔스트레칭', '엉덩이스트레칭', '넙다리스트레칭', '허리스트레칭', '배스트레칭', '옆구리스트레칭', '어깨스트레칭']]"
            ]
          },
          "metadata": {},
          "execution_count": 45
        }
      ]
    },
    {
      "cell_type": "code",
      "metadata": {
        "colab": {
          "base_uri": "https://localhost:8080/"
        },
        "id": "YjZK9pye1-Oj",
        "outputId": "c7092ff5-1b31-4c40-9868-9f06ceba6049"
      },
      "source": [
        "tokenizer.word_index"
      ],
      "execution_count": 46,
      "outputs": [
        {
          "output_type": "execute_result",
          "data": {
            "text/plain": [
              "{'걷기': 1,\n",
              " '넙다리스트레칭': 7,\n",
              " '배스트레칭': 9,\n",
              " '아래팔스트레칭': 5,\n",
              " '어깨스트레칭': 11,\n",
              " '엉덩이스트레칭': 6,\n",
              " '옆구리스트레칭': 10,\n",
              " '유산소운동전동적루틴스트레칭': 2,\n",
              " '자가근막이완술루틴스트레칭': 3,\n",
              " '전신루틴스트레칭': 4,\n",
              " '허리스트레칭': 8}"
            ]
          },
          "metadata": {},
          "execution_count": 46
        }
      ]
    },
    {
      "cell_type": "code",
      "metadata": {
        "colab": {
          "base_uri": "https://localhost:8080/"
        },
        "id": "_KwExNl0w4Sn",
        "outputId": "ba73494a-d007-49d4-ed5b-eba377cea628"
      },
      "source": [
        "vect.vocabulary_"
      ],
      "execution_count": 47,
      "outputs": [
        {
          "output_type": "execute_result",
          "data": {
            "text/plain": [
              "{'10': 0, '11': 1}"
            ]
          },
          "metadata": {},
          "execution_count": 47
        }
      ]
    },
    {
      "cell_type": "code",
      "metadata": {
        "colab": {
          "base_uri": "https://localhost:8080/"
        },
        "id": "zAiyiu7e2piq",
        "outputId": "fbf80a39-1d88-449d-9b6a-a2320b7774bf"
      },
      "source": [
        "countvect.toarray()"
      ],
      "execution_count": 48,
      "outputs": [
        {
          "output_type": "execute_result",
          "data": {
            "text/plain": [
              "array([[0, 0],\n",
              "       [0, 0],\n",
              "       [0, 0],\n",
              "       [0, 0],\n",
              "       [0, 0],\n",
              "       [0, 0],\n",
              "       [0, 0],\n",
              "       [0, 0],\n",
              "       [0, 0],\n",
              "       [1, 1]])"
            ]
          },
          "metadata": {},
          "execution_count": 48
        }
      ]
    },
    {
      "cell_type": "code",
      "metadata": {
        "colab": {
          "base_uri": "https://localhost:8080/",
          "height": 676
        },
        "id": "HMiUyn93mf8t",
        "outputId": "9e04552f-8328-4c28-dfeb-50231f6fb62b"
      },
      "source": [
        "import pandas as pd\n",
        "countvect_df = pd.DataFrame(countvect.toarray(), columns = sorted(vect.vocabulary_))\n",
        "countvect_df.index = w_list[:length]\n",
        "pd.concat([countvect_df.reset_index(),pd.DataFrame(aa_list)])"
      ],
      "execution_count": 66,
      "outputs": [
        {
          "output_type": "execute_result",
          "data": {
            "text/html": [
              "<div>\n",
              "<style scoped>\n",
              "    .dataframe tbody tr th:only-of-type {\n",
              "        vertical-align: middle;\n",
              "    }\n",
              "\n",
              "    .dataframe tbody tr th {\n",
              "        vertical-align: top;\n",
              "    }\n",
              "\n",
              "    .dataframe thead th {\n",
              "        text-align: right;\n",
              "    }\n",
              "</style>\n",
              "<table border=\"1\" class=\"dataframe\">\n",
              "  <thead>\n",
              "    <tr style=\"text-align: right;\">\n",
              "      <th></th>\n",
              "      <th>0</th>\n",
              "      <th>10</th>\n",
              "      <th>11</th>\n",
              "      <th>index</th>\n",
              "    </tr>\n",
              "  </thead>\n",
              "  <tbody>\n",
              "    <tr>\n",
              "      <th>0</th>\n",
              "      <td>NaN</td>\n",
              "      <td>0.0</td>\n",
              "      <td>0.0</td>\n",
              "      <td>3</td>\n",
              "    </tr>\n",
              "    <tr>\n",
              "      <th>1</th>\n",
              "      <td>NaN</td>\n",
              "      <td>0.0</td>\n",
              "      <td>0.0</td>\n",
              "      <td>1</td>\n",
              "    </tr>\n",
              "    <tr>\n",
              "      <th>2</th>\n",
              "      <td>NaN</td>\n",
              "      <td>0.0</td>\n",
              "      <td>0.0</td>\n",
              "      <td>4, 2</td>\n",
              "    </tr>\n",
              "    <tr>\n",
              "      <th>3</th>\n",
              "      <td>NaN</td>\n",
              "      <td>0.0</td>\n",
              "      <td>0.0</td>\n",
              "      <td>1</td>\n",
              "    </tr>\n",
              "    <tr>\n",
              "      <th>4</th>\n",
              "      <td>NaN</td>\n",
              "      <td>0.0</td>\n",
              "      <td>0.0</td>\n",
              "      <td>1</td>\n",
              "    </tr>\n",
              "    <tr>\n",
              "      <th>5</th>\n",
              "      <td>NaN</td>\n",
              "      <td>0.0</td>\n",
              "      <td>0.0</td>\n",
              "      <td>2</td>\n",
              "    </tr>\n",
              "    <tr>\n",
              "      <th>6</th>\n",
              "      <td>NaN</td>\n",
              "      <td>0.0</td>\n",
              "      <td>0.0</td>\n",
              "      <td>1</td>\n",
              "    </tr>\n",
              "    <tr>\n",
              "      <th>7</th>\n",
              "      <td>NaN</td>\n",
              "      <td>0.0</td>\n",
              "      <td>0.0</td>\n",
              "      <td>1</td>\n",
              "    </tr>\n",
              "    <tr>\n",
              "      <th>8</th>\n",
              "      <td>NaN</td>\n",
              "      <td>0.0</td>\n",
              "      <td>0.0</td>\n",
              "      <td>2</td>\n",
              "    </tr>\n",
              "    <tr>\n",
              "      <th>9</th>\n",
              "      <td>NaN</td>\n",
              "      <td>1.0</td>\n",
              "      <td>1.0</td>\n",
              "      <td>5, 6, 7, 8, 9, 10, 11</td>\n",
              "    </tr>\n",
              "    <tr>\n",
              "      <th>0</th>\n",
              "      <td>자가근막이완술루틴스트레칭</td>\n",
              "      <td>NaN</td>\n",
              "      <td>NaN</td>\n",
              "      <td>NaN</td>\n",
              "    </tr>\n",
              "    <tr>\n",
              "      <th>1</th>\n",
              "      <td>걷기</td>\n",
              "      <td>NaN</td>\n",
              "      <td>NaN</td>\n",
              "      <td>NaN</td>\n",
              "    </tr>\n",
              "    <tr>\n",
              "      <th>2</th>\n",
              "      <td>전신루틴스트레칭, 유산소운동전동적루틴스트레칭</td>\n",
              "      <td>NaN</td>\n",
              "      <td>NaN</td>\n",
              "      <td>NaN</td>\n",
              "    </tr>\n",
              "    <tr>\n",
              "      <th>3</th>\n",
              "      <td>걷기</td>\n",
              "      <td>NaN</td>\n",
              "      <td>NaN</td>\n",
              "      <td>NaN</td>\n",
              "    </tr>\n",
              "    <tr>\n",
              "      <th>4</th>\n",
              "      <td>걷기</td>\n",
              "      <td>NaN</td>\n",
              "      <td>NaN</td>\n",
              "      <td>NaN</td>\n",
              "    </tr>\n",
              "    <tr>\n",
              "      <th>5</th>\n",
              "      <td>유산소운동전동적루틴스트레칭</td>\n",
              "      <td>NaN</td>\n",
              "      <td>NaN</td>\n",
              "      <td>NaN</td>\n",
              "    </tr>\n",
              "    <tr>\n",
              "      <th>6</th>\n",
              "      <td>걷기</td>\n",
              "      <td>NaN</td>\n",
              "      <td>NaN</td>\n",
              "      <td>NaN</td>\n",
              "    </tr>\n",
              "    <tr>\n",
              "      <th>7</th>\n",
              "      <td>걷기</td>\n",
              "      <td>NaN</td>\n",
              "      <td>NaN</td>\n",
              "      <td>NaN</td>\n",
              "    </tr>\n",
              "    <tr>\n",
              "      <th>8</th>\n",
              "      <td>유산소운동전동적루틴스트레칭</td>\n",
              "      <td>NaN</td>\n",
              "      <td>NaN</td>\n",
              "      <td>NaN</td>\n",
              "    </tr>\n",
              "    <tr>\n",
              "      <th>9</th>\n",
              "      <td>아래팔스트레칭, 엉덩이스트레칭, 넙다리스트레칭, 허리스트레칭, 배스트레칭, 옆구리스...</td>\n",
              "      <td>NaN</td>\n",
              "      <td>NaN</td>\n",
              "      <td>NaN</td>\n",
              "    </tr>\n",
              "  </tbody>\n",
              "</table>\n",
              "</div>"
            ],
            "text/plain": [
              "                                                   0  ...                  index\n",
              "0                                                NaN  ...                      3\n",
              "1                                                NaN  ...                      1\n",
              "2                                                NaN  ...                   4, 2\n",
              "3                                                NaN  ...                      1\n",
              "4                                                NaN  ...                      1\n",
              "5                                                NaN  ...                      2\n",
              "6                                                NaN  ...                      1\n",
              "7                                                NaN  ...                      1\n",
              "8                                                NaN  ...                      2\n",
              "9                                                NaN  ...  5, 6, 7, 8, 9, 10, 11\n",
              "0                                      자가근막이완술루틴스트레칭  ...                    NaN\n",
              "1                                                 걷기  ...                    NaN\n",
              "2                           전신루틴스트레칭, 유산소운동전동적루틴스트레칭  ...                    NaN\n",
              "3                                                 걷기  ...                    NaN\n",
              "4                                                 걷기  ...                    NaN\n",
              "5                                     유산소운동전동적루틴스트레칭  ...                    NaN\n",
              "6                                                 걷기  ...                    NaN\n",
              "7                                                 걷기  ...                    NaN\n",
              "8                                     유산소운동전동적루틴스트레칭  ...                    NaN\n",
              "9  아래팔스트레칭, 엉덩이스트레칭, 넙다리스트레칭, 허리스트레칭, 배스트레칭, 옆구리스...  ...                    NaN\n",
              "\n",
              "[20 rows x 4 columns]"
            ]
          },
          "metadata": {},
          "execution_count": 66
        }
      ]
    },
    {
      "cell_type": "code",
      "metadata": {
        "id": "saty7c4h3scy"
      },
      "source": [
        "pd.concat([countvect_df.reset_index(),pd.DataFrame(aa_list)],axis=1).to_csv('sadf.csv',encoding='cp949')"
      ],
      "execution_count": 71,
      "outputs": []
    },
    {
      "cell_type": "code",
      "metadata": {
        "colab": {
          "base_uri": "https://localhost:8080/",
          "height": 363
        },
        "id": "hURkCj9C4mJK",
        "outputId": "64292c3e-3847-44ec-8613-b0d621e37ca4"
      },
      "source": [
        "  pd.DataFrame(aa_list)"
      ],
      "execution_count": 68,
      "outputs": [
        {
          "output_type": "execute_result",
          "data": {
            "text/html": [
              "<div>\n",
              "<style scoped>\n",
              "    .dataframe tbody tr th:only-of-type {\n",
              "        vertical-align: middle;\n",
              "    }\n",
              "\n",
              "    .dataframe tbody tr th {\n",
              "        vertical-align: top;\n",
              "    }\n",
              "\n",
              "    .dataframe thead th {\n",
              "        text-align: right;\n",
              "    }\n",
              "</style>\n",
              "<table border=\"1\" class=\"dataframe\">\n",
              "  <thead>\n",
              "    <tr style=\"text-align: right;\">\n",
              "      <th></th>\n",
              "      <th>0</th>\n",
              "    </tr>\n",
              "  </thead>\n",
              "  <tbody>\n",
              "    <tr>\n",
              "      <th>0</th>\n",
              "      <td>자가근막이완술루틴스트레칭</td>\n",
              "    </tr>\n",
              "    <tr>\n",
              "      <th>1</th>\n",
              "      <td>걷기</td>\n",
              "    </tr>\n",
              "    <tr>\n",
              "      <th>2</th>\n",
              "      <td>전신루틴스트레칭, 유산소운동전동적루틴스트레칭</td>\n",
              "    </tr>\n",
              "    <tr>\n",
              "      <th>3</th>\n",
              "      <td>걷기</td>\n",
              "    </tr>\n",
              "    <tr>\n",
              "      <th>4</th>\n",
              "      <td>걷기</td>\n",
              "    </tr>\n",
              "    <tr>\n",
              "      <th>5</th>\n",
              "      <td>유산소운동전동적루틴스트레칭</td>\n",
              "    </tr>\n",
              "    <tr>\n",
              "      <th>6</th>\n",
              "      <td>걷기</td>\n",
              "    </tr>\n",
              "    <tr>\n",
              "      <th>7</th>\n",
              "      <td>걷기</td>\n",
              "    </tr>\n",
              "    <tr>\n",
              "      <th>8</th>\n",
              "      <td>유산소운동전동적루틴스트레칭</td>\n",
              "    </tr>\n",
              "    <tr>\n",
              "      <th>9</th>\n",
              "      <td>아래팔스트레칭, 엉덩이스트레칭, 넙다리스트레칭, 허리스트레칭, 배스트레칭, 옆구리스...</td>\n",
              "    </tr>\n",
              "  </tbody>\n",
              "</table>\n",
              "</div>"
            ],
            "text/plain": [
              "                                                   0\n",
              "0                                      자가근막이완술루틴스트레칭\n",
              "1                                                 걷기\n",
              "2                           전신루틴스트레칭, 유산소운동전동적루틴스트레칭\n",
              "3                                                 걷기\n",
              "4                                                 걷기\n",
              "5                                     유산소운동전동적루틴스트레칭\n",
              "6                                                 걷기\n",
              "7                                                 걷기\n",
              "8                                     유산소운동전동적루틴스트레칭\n",
              "9  아래팔스트레칭, 엉덩이스트레칭, 넙다리스트레칭, 허리스트레칭, 배스트레칭, 옆구리스..."
            ]
          },
          "metadata": {},
          "execution_count": 68
        }
      ]
    },
    {
      "cell_type": "code",
      "metadata": {
        "colab": {
          "base_uri": "https://localhost:8080/"
        },
        "id": "6KH4gFHXyvdd",
        "outputId": "49fe6b21-1be8-4f7a-b6ef-1e3160330753"
      },
      "source": [
        "aa_list = []\n",
        "for row  in ex_list[:10]:\n",
        "  aa_list.append(', '.join(str(_) for _ in row))\n",
        "aa_list"
      ],
      "execution_count": 58,
      "outputs": [
        {
          "output_type": "execute_result",
          "data": {
            "text/plain": [
              "['자가근막이완술루틴스트레칭',\n",
              " '걷기',\n",
              " '전신루틴스트레칭, 유산소운동전동적루틴스트레칭',\n",
              " '걷기',\n",
              " '걷기',\n",
              " '유산소운동전동적루틴스트레칭',\n",
              " '걷기',\n",
              " '걷기',\n",
              " '유산소운동전동적루틴스트레칭',\n",
              " '아래팔스트레칭, 엉덩이스트레칭, 넙다리스트레칭, 허리스트레칭, 배스트레칭, 옆구리스트레칭, 어깨스트레칭']"
            ]
          },
          "metadata": {},
          "execution_count": 58
        }
      ]
    },
    {
      "cell_type": "code",
      "metadata": {
        "id": "sEguzaVWSpjl"
      },
      "source": [
        "\n",
        "countvect_df = pd.DataFrame(countvect.toarray(), columns = sorted(vect.vocabulary_))\n",
        "countvect_df.index = ['문서1', '문서2', '문서3', '문서4']\n",
        "countvect_df"
      ],
      "execution_count": 141,
      "outputs": []
    },
    {
      "cell_type": "code",
      "metadata": {
        "id": "Mx-TqO7-SCqW"
      },
      "source": [
        "vect.vocabulary_ = tokenizer.word_counts"
      ],
      "execution_count": null,
      "outputs": []
    },
    {
      "cell_type": "code",
      "metadata": {
        "id": "qqvx_S5cRwHe"
      },
      "source": [
        "vect.vocabulary_"
      ],
      "execution_count": null,
      "outputs": []
    },
    {
      "cell_type": "code",
      "metadata": {
        "id": "WkZw-n6mCVqV"
      },
      "source": [
        "# 운동을 Counter Vectorizer 형태로 변형 \n",
        "countvect = vect.fit_transform(aa)\n",
        "countvect \n",
        "vect.vocabulary_"
      ],
      "execution_count": null,
      "outputs": []
    },
    {
      "cell_type": "code",
      "metadata": {
        "id": "-Mxp1BN_UrOI"
      },
      "source": [
        ""
      ],
      "execution_count": null,
      "outputs": []
    }
  ]
}