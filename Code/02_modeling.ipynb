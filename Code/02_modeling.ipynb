{
  "nbformat": 4,
  "nbformat_minor": 0,
  "metadata": {
    "colab": {
      "name": "02.modeling.ipynb",
      "provenance": [],
      "collapsed_sections": [
        "fRXj3DAwg6QC",
        "GDXGYH5Cg7uC",
        "B0sUtDSrhNxL",
        "0zalBxUL51VP"
      ],
      "mount_file_id": "15OdZhMaTEj-kvrY7Jv3EWW-qIke_PSSf",
      "authorship_tag": "ABX9TyO6uldtKXJ9WFhCPkY6qKGL",
      "include_colab_link": true
    },
    "kernelspec": {
      "name": "python3",
      "display_name": "Python 3"
    },
    "language_info": {
      "name": "python"
    }
  },
  "cells": [
    {
      "cell_type": "markdown",
      "metadata": {
        "id": "view-in-github",
        "colab_type": "text"
      },
      "source": [
        "<a href=\"https://colab.research.google.com/github/soohyunme/exercise/blob/main/Code/02_modeling.ipynb\" target=\"_parent\"><img src=\"https://colab.research.google.com/assets/colab-badge.svg\" alt=\"Open In Colab\"/></a>"
      ]
    },
    {
      "cell_type": "code",
      "metadata": {
        "colab": {
          "base_uri": "https://localhost:8080/"
        },
        "id": "6ojDdKSzmYsS",
        "outputId": "aa5f7d64-1801-445a-bb11-83fee93465d4"
      },
      "source": [
        "cd /content/drive/MyDrive/4조/01.체육공모전/Code"
      ],
      "execution_count": 24,
      "outputs": [
        {
          "output_type": "stream",
          "name": "stdout",
          "text": [
            "/content/drive/.shortcut-targets-by-id/159Rw9eptrdiP8wihxnfPLcnRcwjx1x8n/4조/01.체육공모전/Code\n"
          ]
        }
      ]
    },
    {
      "cell_type": "markdown",
      "metadata": {
        "id": "fRXj3DAwg6QC"
      },
      "source": [
        "# 모듈 로드"
      ]
    },
    {
      "cell_type": "code",
      "metadata": {
        "id": "uxPtDIWEfF3v"
      },
      "source": [
        "import pandas as pd\n",
        "from tqdm import tqdm\n",
        "from tensorflow.keras.preprocessing.text import Tokenizer\n",
        "from mlxtend.preprocessing import TransactionEncoder\n",
        "from mlxtend.frequent_patterns import apriori\n",
        "from mlxtend.frequent_patterns import association_rules\n"
      ],
      "execution_count": 25,
      "outputs": []
    },
    {
      "cell_type": "markdown",
      "metadata": {
        "id": "GDXGYH5Cg7uC"
      },
      "source": [
        "# 데이터 로드"
      ]
    },
    {
      "cell_type": "code",
      "metadata": {
        "id": "db3WHqlugaJq"
      },
      "source": [
        "df_origin = pd.read_csv('../Data/04.processed_data.csv',encoding='cp949')\n",
        "group = pd.read_csv('../Data/user_group.csv',encoding='cp949')\n",
        "ex_db = pd.read_csv('../Data/exercise_DB.csv',encoding='cp949')\n",
        "ex_db['NEW_EX_NM'] = ex_db['EX_NM'].apply(lambda x : x.replace(' ',''))\n",
        "ex_dict = dict(zip(list(ex_db['NEW_EX_NM']),list(ex_db['EX_NM'])))\n"
      ],
      "execution_count": 26,
      "outputs": []
    },
    {
      "cell_type": "code",
      "metadata": {
        "id": "V0ZKHJc6g1T8"
      },
      "source": [
        "user_db = df_origin[:-20]\n",
        "sample_user = df_origin[-20:].iloc[:,:-3]"
      ],
      "execution_count": 27,
      "outputs": []
    },
    {
      "cell_type": "markdown",
      "metadata": {
        "id": "B0sUtDSrhNxL"
      },
      "source": [
        "# 함수 정의"
      ]
    },
    {
      "cell_type": "markdown",
      "metadata": {
        "id": "0zalBxUL51VP"
      },
      "source": [
        "## 데이터프레임 변환 함수"
      ]
    },
    {
      "cell_type": "code",
      "metadata": {
        "id": "-kSjTlPdhKmZ"
      },
      "source": [
        "# 나이를 연령대로 변환\n",
        "def age_group(df):\n",
        "  df['AGRDE_SE'] = df['TEST_AGE'].apply(lambda x : '10대' if x<20 else (\\\n",
        "                                                    '20대' if x<30 else (\\\n",
        "                                                      '30대' if x<40 else (\\\n",
        "                                                    '40대' if x<50 else (\\\n",
        "                                                    '50대' if x<60 else (\\\n",
        "                                                      '60대' if x<70 else (\\\n",
        "                                                    '70대 이상' )))))))\n",
        "  return df"
      ],
      "execution_count": 28,
      "outputs": []
    },
    {
      "cell_type": "code",
      "metadata": {
        "id": "9ABta0OMqGTV"
      },
      "source": [
        "# 키와 몸무게를 통해 BMI 계산, BMI를 통해 비만 단계 변환\n",
        "def bmi_group(df):\n",
        "  bmi = pd.Series(round(df['WEIGHT'] / (df['HEIGHT']/100)**2,1),name='BMI')\n",
        "  bmi_g = bmi.apply(lambda x : '3단계비만' if x>=35 else (\\\n",
        "                                                    '2단계비만' if x>=30 else (\\\n",
        "                                                      '1단계비만' if x>=25 else (\\\n",
        "                                                    '비만전단계' if x>=23 else (\\\n",
        "                                                    '정상' if x>=18.5 else '저체중')))))\n",
        "  result = pd.concat([df,bmi_g],axis=1)\n",
        "  return result"
      ],
      "execution_count": 29,
      "outputs": []
    },
    {
      "cell_type": "code",
      "metadata": {
        "id": "RSBDBDWK7XO_"
      },
      "source": [
        "# Add user group column\n",
        "def add_group(df):\n",
        "  result = df.merge(group,how='inner')\n",
        "  return result"
      ],
      "execution_count": 30,
      "outputs": []
    },
    {
      "cell_type": "code",
      "metadata": {
        "id": "Azfkz8bSpWM8"
      },
      "source": [
        "def transform(df):\n",
        "  result = age_group(df.copy())\n",
        "  result = bmi_group(result)\n",
        "  result = add_group(result)\n",
        "  if '준비운동' in df.columns:\n",
        "    result = result[['USER_ID', 'GROUP_ID', '준비운동', '본운동', '마무리운동']]\n",
        "  else:\n",
        "    result = result[['USER_ID', 'GROUP_ID']]\n",
        "  return result"
      ],
      "execution_count": 31,
      "outputs": []
    },
    {
      "cell_type": "markdown",
      "metadata": {
        "id": "-oc54RbfAjQu"
      },
      "source": [
        "# 데이터셋 변환  \n",
        "연령대, 운동강도, 성별, BMI 등급을 통한 그룹 변환"
      ]
    },
    {
      "cell_type": "code",
      "metadata": {
        "id": "S_F5zRRmrd8h"
      },
      "source": [
        "# User DB & sample user data transform\n",
        "trans_db = transform(user_db)\n",
        "trans_sample = transform(sample_user)\n",
        "\n",
        "# exercise set df\n",
        "set_df = pd.DataFrame(trans_db.drop('USER_ID',axis=1).value_counts()).reset_index().rename(columns={0:'COUNT'})"
      ],
      "execution_count": 32,
      "outputs": []
    },
    {
      "cell_type": "markdown",
      "metadata": {
        "id": "G3xO6_wJ5ycX"
      },
      "source": [
        "## 최빈 운동 세트 선정 함수"
      ]
    },
    {
      "cell_type": "code",
      "metadata": {
        "id": "Q_rxmq5AXgH_"
      },
      "source": [
        "# input : exercise list / output : sparse matrix\n",
        "def sparse_matrix(ex_list):\n",
        "  te = TransactionEncoder()\n",
        "  te_ary = te.fit(ex_list).transform(ex_list)\n",
        "  sparse_matrix = pd.DataFrame(te_ary, columns=te.columns_)\n",
        "  return sparse_matrix"
      ],
      "execution_count": 33,
      "outputs": []
    },
    {
      "cell_type": "code",
      "metadata": {
        "id": "cKRytw-eARyh"
      },
      "source": [
        "def ranking(pre_df, main_df, finish_df, ex_list):\n",
        "  df_list = [pre_df, main_df, finish_df] # 단계별 연관분석 결과값\n",
        "  result_list = [] # 결과값을 리스트에 담아 하나씩 출력\n",
        "  result_df = pd.DataFrame(columns=pre_df.columns) # 빈 DataFrame 생성\n",
        "  \n",
        "  for i in range(len(df_list)):\n",
        "    tmp_df = df_list[i] # 운동 단계별 for문 pre, main, finish\n",
        "    \n",
        "    for each_ex in ex_list[i].split(','): # 각 단계별 운동들을 리스트로 분할\n",
        "      each_ex = each_ex.replace(' ','') # 운동이름에 공백 제거\n",
        "      each_result = tmp_df[tmp_df['antecedents']==frozenset({each_ex})].sort_values('support') # 해당하는 운동을 연관분석을 통해 지지도 순으로 정렬\n",
        "      each_result['consequents'] = each_result['consequents'].apply(lambda x : list(x)[0]) # frozenset to string\n",
        "      length = 3 if len(each_result) else len(each_result) # set length\n",
        "      result_df = pd.concat([result_df,each_result.iloc[:length]]) # 연관성이 높은 운동이 3개 이상일 경우 3개만 저장\n",
        "    result_list.append(result_df['consequents']) # 결과값 리스트에 추가\n",
        "    result_df = None # 초기화\n",
        "  return list(result_list[0]), list(result_list[1]), list(result_list[2]) # 준비, 본, 마무리 운동 연관성 높은 운동 리턴 / type : Series"
      ],
      "execution_count": 34,
      "outputs": []
    },
    {
      "cell_type": "code",
      "metadata": {
        "id": "QmZKz4rCkvxc",
        "colab": {
          "base_uri": "https://localhost:8080/"
        },
        "outputId": "36dfa613-dbc4-4c20-d0f1-5588ff51c159"
      },
      "source": [
        "# select top 1 exercise set from user info\n",
        "# input : group_id / ouput : top 1 exercise set(pre, main, finish / Series)\n",
        "def mode_set(g_id, min_support = 0.01, min_threshold=0.2):\n",
        "  global max_ex_set\n",
        "  user_set = set_df[set_df['GROUP_ID']==g_id] # 유저가 해당하는 그룹의 처방 운동 세트 빈도\n",
        "  max_ex_set = list(user_set[user_set['COUNT'] == user_set['COUNT'].max()].iloc[0,1:4]) # 가장 많이 처방된 운동 세트\n",
        "\n",
        "  # 해당 그룹의 단계별 운동 리스트 생성\n",
        "  pre_ex_all = list(user_set['준비운동'].apply(lambda x : x.replace(' ','')).apply(lambda x : x.split(','))) \n",
        "  main_ex_all = list(user_set['본운동'].apply(lambda x : x.replace(' ','')).apply(lambda x : x.split(',')))\n",
        "  finish_ex_all = list(user_set['마무리운동'].apply(lambda x : x.replace(' ','')).apply(lambda x : x.split(',')))\n",
        "\n",
        "  # 단계별 sparse matrix 생성\n",
        "  pre_sparse = sparse_matrix(pre_ex_all)\n",
        "  main_sparse = sparse_matrix(main_ex_all)\n",
        "  finish_sparse = sparse_matrix(finish_ex_all)\n",
        "\n",
        "  # 지지도가 0.01 이상인 운동 선택\n",
        "  pre_itemsets = apriori(pre_sparse, min_support = min_support, use_colnames=True)\n",
        "  main_itemsets = apriori(main_sparse, min_support = min_support, use_colnames=True)\n",
        "  finish_itemsets = apriori(finish_sparse, min_support = min_support, use_colnames=True)\n",
        "\n",
        "  # 그 중에서 신뢰도가 0.5 이상인 운동 선택\n",
        "  pre_select = association_rules(pre_itemsets, metric=\"confidence\", min_threshold=min_threshold)\n",
        "  main_select = association_rules(main_itemsets, metric=\"confidence\", min_threshold=min_threshold)\n",
        "  finish_select = association_rules(finish_itemsets, metric=\"confidence\", min_threshold=min_threshold)\n",
        "  \n",
        "  # consequents의 길이가 1인 것만 선택 -> 1개의 운동만 추천하도록\n",
        "  pre_select = pre_select[pre_select['consequents'].apply(lambda x : len(x) == 1)]\n",
        "  main_select = main_select[main_select['consequents'].apply(lambda x : len(x) == 1)] \n",
        "  finish_select = finish_select[finish_select['consequents'].apply(lambda x : len(x) == 1)]\n",
        "  \n",
        "  # ranking \n",
        "  pre_rank, main_rank, finish_rank = ranking(pre_select, main_select, finish_select, max_ex_set)\n",
        "\n",
        "  # select exercise \n",
        "  select_exercise(pre_rank, main_rank, finish_rank, max_ex_set)\n",
        "\n",
        "  return pre_rank, main_rank, finish_rank\n",
        "\n",
        "mode_set(32)"
      ],
      "execution_count": 101,
      "outputs": [
        {
          "output_type": "stream",
          "name": "stdout",
          "text": [
            "[['하지루틴스트레칭', '상지루틴스트레칭'], ['전신루틴스트레칭'], ['목스트레칭', '등/어깨뒤쪽스트레칭', '어깨뒤쪽스트레칭', '양팔벌려전신비틀기', '골반스트레칭'], ['전신루틴스트레칭'], ['전신루틴스트레칭'], ['깍지끼고상체숙이기', '아래팔스트레칭', '넙다리스트레칭', '팔꿈치맞닿아원그리기'], ['하지루틴스트레칭', '상지루틴스트레칭', '전신루틴스트레칭'], ['전신루틴스트레칭', '유산소운동전동적루틴스트레칭'], ['아래팔스트레칭', '엉덩이스트레칭', '넙다리스트레칭', '허리스트레칭', '배스트레칭', '옆구리스트레칭', '어깨스트레칭'], ['걷기'], ['하지루틴스트레칭', '상지루틴스트레칭', '전신루틴스트레칭', '유산소운동전동적루틴스트레칭'], ['하지루틴스트레칭', '상지루틴스트레칭'], ['하지루틴스트레칭', '상지루틴스트레칭'], ['목스트레칭', '등/어깨뒤쪽스트레칭', '가슴/어깨앞쪽스트레칭', '아래팔스트레칭'], ['자전거타기', '걷기'], ['서서뒤꿈치들기', '유산소운동전동적루틴스트레칭'], ['앉았다일어서기', '무릎높여제자리달리기', '팔벌려뛰기', '옆으로펀치하기'], ['걷기', '유산소운동전동적루틴스트레칭'], ['하지루틴스트레칭', '상지루틴스트레칭', '유산소운동전동적루틴스트레칭'], ['하지루틴스트레칭', '상지루틴스트레칭', '전신루틴스트레칭'], ['전신루틴스트레칭', '유산소운동전동적루틴스트레칭', '짐볼을이용한동적루틴스트레칭', '하지루틴스트레칭'], ['정적스트레칭루틴프로그램'], ['전신루틴스트레칭'], ['하지루틴스트레칭', '상지루틴스트레칭'], ['걷기'], ['걷기'], ['걷기', '자전거타기', '스텝박스'], ['유산소운동전동적루틴스트레칭', '자전거타기', '걷기'], ['전신루틴스트레칭'], ['유산소운동전동적루틴스트레칭', '좌식생활자를위한동적루틴스트레칭'], ['자가근막이완술루틴스트레칭', '목스트레칭', '상지루틴스트레칭', '하지루틴스트레칭'], ['자전거타기', '걷기'], ['전신루틴스트레칭'], ['누워서전신뻗기', '깍지끼고상체숙이기', '어깨뒤쪽스트레칭', '엉덩이스트레칭', '넙다리스트레칭', '대퇴이두근스트레칭'], ['누워서전신뻗기', '깍지끼고상체숙이기', '엉덩이스트레칭', '넙다리스트레칭', '양팔벌려전신비틀기'], ['동적스트레칭루틴프로그램'], ['목스트레칭', '등/어깨뒤쪽스트레칭', '어깨뒤쪽스트레칭', '양팔벌려전신비틀기'], ['깍지끼고상체숙이기', '목스트레칭', '등/어깨뒤쪽스트레칭', '어깨뒤쪽스트레칭', '아래팔스트레칭'], ['누워서전신뻗기', '깍지끼고상체숙이기', '양팔벌려전신비틀기', '걷기'], ['누워서전신뻗기', '깍지끼고상체숙이기', '달리기'], ['누워서전신뻗기', '깍지끼고상체숙이기', '넙다리스트레칭', '몸통앞으로굽혀걷기'], ['걷기', '깍지끼고상체숙이기', '양팔벌려전신비틀기', '목스트레칭', '회전근개스트레칭'], ['걷기'], ['엎드려버티기', '엎드려서팔다리들기', '하지루틴스트레칭', '상지루틴스트레칭', '목스트레칭'], ['유산소운동전동적루틴스트레칭', '하지루틴스트레칭', '상지루틴스트레칭'], ['유산소운동전동적루틴스트레칭', '자전거타기', '걷기'], ['유산소운동전동적루틴스트레칭'], ['등/어깨뒤쪽스트레칭', '엉덩이스트레칭', '넙다리스트레칭', '허리스트레칭'], ['달리기', '자전거타기', '걷기', '계단올라갔다내려오기'], ['목스트레칭', '상지루틴스트레칭', '하지루틴스트레칭'], ['목스트레칭', '상지루틴스트레칭', '하지루틴스트레칭', '유산소운동전동적루틴스트레칭'], ['물속에서걷기'], ['발에밴드걸고윗몸일으키기', '한발뒤로들어올리기', '런지하며상체비틀기'], ['목스트레칭', '등/어깨뒤쪽스트레칭', '어깨뒤쪽스트레칭', '넙다리스트레칭', '허리스트레칭', '배스트레칭'], ['목스트레칭', '등/어깨뒤쪽스트레칭', '어깨뒤쪽스트레칭', '엉덩이스트레칭', '넙다리스트레칭', '허리스트레칭', '배스트레칭'], ['목스트레칭', '등/어깨뒤쪽스트레칭', '어깨뒤쪽스트레칭', '회전근개스트레칭'], ['하지루틴스트레칭', '상지루틴스트레칭'], ['하지루틴스트레칭', '전신루틴스트레칭'], ['허리스트레칭', '배스트레칭', '옆구리스트레칭', '엉덩이스트레칭'], ['하지루틴스트레칭', '상지루틴스트레칭', '전신루틴스트레칭'], ['하지루틴스트레칭', '상지루틴스트레칭', '자전거타기', '걷기'], ['하지루틴스트레칭', '상지루틴스트레칭'], ['전신루틴스트레칭', '하지루틴스트레칭', '상지루틴스트레칭', '걷기'], ['누워서전신뻗기', '깍지끼고상체숙이기', '등/어깨뒤쪽스트레칭', '어깨뒤쪽스트레칭', '엉덩이스트레칭', '넙다리스트레칭'], ['누워서전신뻗기', '깍지끼고상체숙이기', '양팔벌려전신비틀기'], ['누워서전신뻗기', '목스트레칭', '등/어깨뒤쪽스트레칭', '아래팔스트레칭', '회전근개스트레칭'], ['누워서전신뻗기', '깍지끼고상체숙이기', '목스트레칭', '등/어깨뒤쪽스트레칭', '어깨뒤쪽스트레칭', '아래팔스트레칭', '엉덩이스트레칭', '넙다리스트레칭', '허리스트레칭', '배스트레칭', '옆구리스트레칭', '양팔벌려전신비틀기'], ['누워서전신뻗기', '깍지끼고상체숙이기', '목스트레칭', '등/어깨뒤쪽스트레칭', '어깨뒤쪽스트레칭', '아래팔스트레칭', '엉덩이스트레칭', '넙다리스트레칭', '허리스트레칭', '배스트레칭', '옆구리스트레칭', '양팔벌려전신비틀기'], ['누워서전신뻗기', '깍지끼고상체숙이기', '양팔벌려전신비틀기'], ['깍지끼고상체숙이기', '목스트레칭', '등/어깨뒤쪽스트레칭', '어깨뒤쪽스트레칭', '아래팔스트레칭', '엉덩이스트레칭', '가슴스트레칭'], ['걷기'], ['걷기'], ['걷기'], ['걷기', '엉덩이스트레칭', '넙다리스트레칭'], ['골반스트레칭', '몸통앞으로굽혀걷기'], ['계단올라갔다내려오기'], ['걷기', '자전거타기'], ['걷기', '줄넘기', '전신루틴스트레칭', '유산소운동전동적루틴스트레칭'], ['넙다리스트레칭', '허리스트레칭', '배스트레칭'], ['깍지끼고상체숙이기', '목스트레칭', '등/어깨뒤쪽스트레칭', '엉덩이스트레칭', '넙다리스트레칭', '양팔벌려전신비틀기'], ['깍지끼고상체숙이기', '목스트레칭', '등/어깨뒤쪽스트레칭', '어깨뒤쪽스트레칭', '아래팔스트레칭', '엉덩이스트레칭', '허리스트레칭'], ['걷기'], ['걷기'], ['걷기'], ['깍지끼고상체숙이기', '양팔벌려전신비틀기', '어깨양옆으로돌리기', '어깨올리기', '팔교대로올리기', '대퇴사두근스트레칭', '발가락폄근스트레칭', '비복근스트레칭'], ['걷기'], ['누워서전신뻗기', '목스트레칭', '등/어깨뒤쪽스트레칭', '엉덩이스트레칭', '넙다리스트레칭', '허리스트레칭'], ['달리기', '동적스트레칭루틴프로그램', '팔벌려뛰기'], ['자전거타기', '걷기'], ['의자앞에서앉았다일어서기', '윗몸올리기', '팔꿈치굽히기'], ['의자에한다리올리고앉앗다일어서기'], ['의자이용유연성운동루틴프로그램'], ['의자이용유연성운동루틴프로그램', '걷기'], ['자가근막이완술루틴스트레칭'], ['자가근막이완술루틴스트레칭', '유산소운동전동적루틴스트레칭'], ['자전거타기', '걷기'], ['유산소운동전동적루틴스트레칭', '폼롤러이용유연성운동루틴프로그램'], ['엉덩이스트레칭', '배스트레칭', '골반스트레칭', '가슴스트레칭'], ['옆으로누워가슴열기', '어깨올리기', '양팔벌려전신비틀기', '옆구리스트레칭'], ['유산소운동전동적루틴스트레칭'], ['유산소운동전동적루틴스트레칭'], ['유산소운동전동적루틴스트레칭'], ['유산소운동전동적루틴스트레칭'], ['유산소운동전동적루틴스트레칭'], ['유산소운동전동적루틴스트레칭'], ['자전거타기', '걷기', '물속에서걷기'], ['전신루틴스트레칭', '하지루틴스트레칭'], ['정적스트레칭루틴프로그램', '상지루틴스트레칭'], ['좌식생활자를위한동적루틴스트레칭'], ['줄넘기', '목스트레칭', '등/어깨뒤쪽스트레칭', '유산소운동전동적루틴스트레칭', '아래팔스트레칭'], ['줄넘기', '양팔벌려전신비틀기', '목스트레칭', '회전근개스트레칭', '어깨스트레칭'], ['팔교대로올리기', '옆으로누워가슴열기', '가슴스트레칭', '옆으로누워폼롤러굴려주기', '폼롤러앞으로굴리기', '폼롤러밀며몸앞으로숙이기'], ['하지루틴스트레칭', '걷기'], ['전신루틴스트레칭', '유산소운동전동적루틴스트레칭', '짐볼을이용한동적루틴스트레칭', '하지루틴스트레칭'], ['전신루틴스트레칭', '유산소운동전동적루틴스트레칭'], ['전신루틴스트레칭'], ['전신루틴스트레칭'], ['전신루틴스트레칭'], ['전신루틴스트레칭', '유산소운동전동적루틴스트레칭'], ['전신루틴스트레칭'], ['전신루틴스트레칭'], ['엉덩이스트레칭', '넙다리스트레칭', '허리스트레칭', '배스트레칭'], ['하지루틴스트레칭', '상지루틴스트레칭'], ['목스트레칭', '등/어깨뒤쪽스트레칭', '가슴/어깨앞쪽스트레칭', '허리스트레칭', '배스트레칭', '넙다리스트레칭'], ['목스트레칭', '등/어깨뒤쪽스트레칭', '상지루틴스트레칭', '하지루틴스트레칭'], ['목스트레칭', '등/어깨뒤쪽스트레칭', '어깨뒤쪽스트레칭', '아래팔스트레칭', '회전근개스트레칭', '어깨스트레칭', '어깨양옆으로돌리기', '양팔벌려전신비틀기'], ['목스트레칭', '등/어깨뒤쪽스트레칭', '어깨뒤쪽스트레칭', '양팔벌려전신비틀기'], ['목스트레칭', '등/어깨뒤쪽스트레칭', '어깨스트레칭', '어깨뒤쪽스트레칭', '어깨양옆으로돌리기', '양팔벌려전신비틀기', '골반스트레칭', '깍지끼고상체숙이기', '몸통앞으로굽혀걷기'], ['목스트레칭', '가슴/어깨앞쪽스트레칭', '허리스트레칭', '넙다리스트레칭', '하지루틴스트레칭', '상지루틴스트레칭'], ['달리기', '자전거타기', '수영', '스텝퍼오르내리기', '팔벌려뛰기', '버피운동', '계단뛰기', '유산소운동전동적루틴스트레칭'], ['뒤로팔굽혀펴기', '팔꿈치굽히기', '허리굽혀팔뒤로들기', '네발기기자세에서손바닥으로바닥밀기'], ['등/어깨뒤쪽스트레칭', '가슴/어깨앞쪽스트레칭', '아래팔스트레칭', '하지루틴스트레칭', '유산소운동전동적루틴스트레칭'], ['맨몸운동루틴프로그램'], ['모관운동', '발끝당기기', '발목돌리기', '왜가리자세', '넙다리스트레칭'], ['목스트레칭', '아래팔스트레칭', '양팔벌려전신비틀기', '엉덩이스트레칭', '가슴/어깨스트레칭', '깍지끼고상체숙이기'], ['아쿠아로빅운동프로그램루틴'], ['아쿠아로빅운동프로그램루틴'], ['앉아서밴드잡고몸통돌리기', '밴드잡고몸통옆으로굽히기', '바벨들어올리기'], ['양팔벌려전신비틀기', '옆구리스트레칭', '내전근스트레칭', '비복근스트레칭'], ['어깨뒤쪽스트레칭', '아래팔스트레칭', '엉덩이스트레칭', '넙다리스트레칭', '허리스트레칭', '배스트레칭'], ['엉덩관절회전하기', '물당기기/밀기', '옆구리늘리기', '물누르기/올리기', '발닿기', '몸기울이기/회전하기', '유산소운동전동적루틴스트레칭'], ['상지루틴스트레칭', '하지루틴스트레칭'], ['배스트레칭', '허리스트레칭', '옆구리스트레칭', '엉덩이스트레칭', '넙다리스트레칭'], ['상지루틴스트레칭', '전신루틴스트레칭'], ['버피운동'], ['빠르게걷기', '어깨스트레칭', '동적스트레칭루틴프로그램', '전신루틴스트레칭'], ['상지루틴스트레칭', '유산소운동전동적루틴스트레칭'], ['하지루틴스트레칭', '상지루틴스트레칭'], ['하지루틴스트레칭', '상지루틴스트레칭', '유산소운동전동적루틴스트레칭'], ['하지루틴스트레칭', '상지루틴스트레칭'], ['하지루틴스트레칭', '상지루틴스트레칭'], ['하지루틴스트레칭', '상지루틴스트레칭'], ['하지루틴스트레칭', '상지루틴스트레칭'], ['하지루틴스트레칭', '상지루틴스트레칭', '스텝박스오르내리기'], ['하지루틴스트레칭', '상지루틴스트레칭'], ['하지루틴스트레칭', '상지루틴스트레칭'], ['하지루틴스트레칭', '상지루틴스트레칭'], ['하지루틴스트레칭', '상지루틴스트레칭'], ['하지루틴스트레칭', '상지루틴스트레칭', '유산소운동전동적루틴스트레칭'], ['하지루틴스트레칭', '상지루틴스트레칭', '자전거타기', '걷기'], ['하지루틴스트레칭', '상지루틴스트레칭', '전신루틴스트레칭', '자가근막이완술루틴스트레칭', '팔벌려뛰기'], ['하지루틴스트레칭', '상지루틴스트레칭', '줄넘기']]\n"
          ]
        }
      ]
    },
    {
      "cell_type": "code",
      "metadata": {
        "id": "fyskE0qynvXb"
      },
      "source": [
        "import random\n",
        "random_num = random.randint(1, 100) "
      ],
      "execution_count": 42,
      "outputs": []
    },
    {
      "cell_type": "code",
      "metadata": {
        "id": "WvaYVWxpEPBB"
      },
      "source": [
        "a,b,c = mode_set(32)"
      ],
      "execution_count": 94,
      "outputs": []
    },
    {
      "cell_type": "code",
      "metadata": {
        "colab": {
          "base_uri": "https://localhost:8080/"
        },
        "id": "ImTmnImn0aXA",
        "outputId": "8a33b030-7323-4b6b-b56c-2127d9d0ff60"
      },
      "source": [
        "# select main routine\n",
        "def select_exercise(pre_list, main_list, finish_list, max):\n",
        "  main_reco_list = []\n",
        "  sub_reco_list = []\n",
        "  tmp_list = []\n",
        "  aa = pre_list\n",
        "\n",
        "  random_num = random.randint(1, 100) \n",
        "  # Main recommend set\n",
        "  for str in max:\n",
        "    ex_list = str.split(',')\n",
        "    main_reco_list.append(ex_list[random_num %len(ex_list)])\n",
        "  print(aa)\n",
        "  aa.remove(main_reco_list[0].replace(' ',''))\n",
        "  print(aa)\n",
        "  return main_reco_list, sub_reco_list\n",
        "main_reco, sub_reco = select_exercise(a,b,c,max_ex_set)"
      ],
      "execution_count": 98,
      "outputs": [
        {
          "output_type": "stream",
          "name": "stdout",
          "text": [
            "['유산소운동전동적루틴스트레칭', '전신루틴스트레칭', '상지루틴스트레칭', '하지루틴스트레칭']\n",
            "상지 루틴 스트레칭\n",
            "['유산소운동전동적루틴스트레칭', '전신루틴스트레칭', '하지루틴스트레칭']\n"
          ]
        }
      ]
    },
    {
      "cell_type": "markdown",
      "metadata": {
        "id": "slRVAT8HKRCU"
      },
      "source": [
        "# 맞춤 운동 추천"
      ]
    },
    {
      "cell_type": "code",
      "metadata": {
        "id": "ct8yNAD_Vn01"
      },
      "source": [
        "a, b, c = mode_set(91)"
      ],
      "execution_count": 46,
      "outputs": []
    },
    {
      "cell_type": "code",
      "metadata": {
        "id": "grBsafcYvCJZ"
      },
      "source": [
        "b"
      ],
      "execution_count": null,
      "outputs": []
    },
    {
      "cell_type": "code",
      "metadata": {
        "id": "QrmtLuDBnE-u"
      },
      "source": [
        "for u_id, g_id in trans_sample.values:\n",
        "  #recommend_list = list(mode_set(g_id))\n",
        "  #sparse_matrix(g_id, recommend_list)\n",
        "  print(list(mode_set(g_id))) # 준비, 본, 마무리\n",
        "\n",
        "  break"
      ],
      "execution_count": null,
      "outputs": []
    }
  ]
}